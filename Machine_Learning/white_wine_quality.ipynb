{
 "cells": [
  {
   "cell_type": "code",
<<<<<<< HEAD
   "execution_count": 9,
=======
   "execution_count": 60,
>>>>>>> 2c9821653372743d01a16a8bdee694fc6b01d5f3
   "id": "23c5a382-34b2-4df8-9e9b-57f1026f29f9",
   "metadata": {},
   "outputs": [],
   "source": [
    "import os\n",
    "import pandas as pd\n",
    "import plotly.express as px\n",
    "import hvplot.pandas\n",
    "from sklearn.preprocessing import StandardScaler\n",
    "from sklearn.cluster import KMeans\n",
    "from sklearn.model_selection import train_test_split\n",
    "from sklearn.ensemble import RandomForestClassifier\n",
    "%matplotlib inline\n",
    "from matplotlib import pyplot as plt\n",
    "import matplotlib.pyplot as plt\n",
    "import numpy as np"
   ]
  },
  {
   "cell_type": "code",
   "execution_count": 11,
   "id": "dcc86d6d-d8d3-411c-ae56-957c60f70837",
   "metadata": {},
   "outputs": [
    {
     "data": {
      "text/html": [
       "<div>\n",
       "<style scoped>\n",
       "    .dataframe tbody tr th:only-of-type {\n",
       "        vertical-align: middle;\n",
       "    }\n",
       "\n",
       "    .dataframe tbody tr th {\n",
       "        vertical-align: top;\n",
       "    }\n",
       "\n",
       "    .dataframe thead th {\n",
       "        text-align: right;\n",
       "    }\n",
       "</style>\n",
       "<table border=\"1\" class=\"dataframe\">\n",
       "  <thead>\n",
       "    <tr style=\"text-align: right;\">\n",
       "      <th></th>\n",
       "      <th>Unnamed: 0</th>\n",
       "      <th>fixed.acidity</th>\n",
       "      <th>volatile.acidity</th>\n",
       "      <th>citric.acid</th>\n",
       "      <th>residual.sugar</th>\n",
       "      <th>chlorides</th>\n",
       "      <th>free.sulfur.dioxide</th>\n",
       "      <th>total.sulfur.dioxide</th>\n",
       "      <th>density</th>\n",
       "      <th>pH</th>\n",
       "      <th>sulphates</th>\n",
       "      <th>alcohol</th>\n",
       "      <th>quality</th>\n",
       "    </tr>\n",
       "  </thead>\n",
       "  <tbody>\n",
       "    <tr>\n",
       "      <th>0</th>\n",
       "      <td>1</td>\n",
       "      <td>7.0</td>\n",
       "      <td>0.27</td>\n",
       "      <td>0.36</td>\n",
       "      <td>20.7</td>\n",
       "      <td>0.045</td>\n",
       "      <td>45.0</td>\n",
       "      <td>170.0</td>\n",
       "      <td>1.0010</td>\n",
       "      <td>3.00</td>\n",
       "      <td>0.45</td>\n",
       "      <td>8.8</td>\n",
       "      <td>6</td>\n",
       "    </tr>\n",
       "    <tr>\n",
       "      <th>1</th>\n",
       "      <td>2</td>\n",
       "      <td>6.3</td>\n",
       "      <td>0.30</td>\n",
       "      <td>0.34</td>\n",
       "      <td>1.6</td>\n",
       "      <td>0.049</td>\n",
       "      <td>14.0</td>\n",
       "      <td>132.0</td>\n",
       "      <td>0.9940</td>\n",
       "      <td>3.30</td>\n",
       "      <td>0.49</td>\n",
       "      <td>9.5</td>\n",
       "      <td>6</td>\n",
       "    </tr>\n",
       "    <tr>\n",
       "      <th>2</th>\n",
       "      <td>3</td>\n",
       "      <td>8.1</td>\n",
       "      <td>0.28</td>\n",
       "      <td>0.40</td>\n",
       "      <td>6.9</td>\n",
       "      <td>0.050</td>\n",
       "      <td>30.0</td>\n",
       "      <td>97.0</td>\n",
       "      <td>0.9951</td>\n",
       "      <td>3.26</td>\n",
       "      <td>0.44</td>\n",
       "      <td>10.1</td>\n",
       "      <td>6</td>\n",
       "    </tr>\n",
       "    <tr>\n",
       "      <th>3</th>\n",
       "      <td>4</td>\n",
       "      <td>7.2</td>\n",
       "      <td>0.23</td>\n",
       "      <td>0.32</td>\n",
       "      <td>8.5</td>\n",
       "      <td>0.058</td>\n",
       "      <td>47.0</td>\n",
       "      <td>186.0</td>\n",
       "      <td>0.9956</td>\n",
       "      <td>3.19</td>\n",
       "      <td>0.40</td>\n",
       "      <td>9.9</td>\n",
       "      <td>6</td>\n",
       "    </tr>\n",
       "    <tr>\n",
       "      <th>4</th>\n",
       "      <td>5</td>\n",
       "      <td>7.2</td>\n",
       "      <td>0.23</td>\n",
       "      <td>0.32</td>\n",
       "      <td>8.5</td>\n",
       "      <td>0.058</td>\n",
       "      <td>47.0</td>\n",
       "      <td>186.0</td>\n",
       "      <td>0.9956</td>\n",
       "      <td>3.19</td>\n",
       "      <td>0.40</td>\n",
       "      <td>9.9</td>\n",
       "      <td>6</td>\n",
       "    </tr>\n",
       "  </tbody>\n",
       "</table>\n",
       "</div>"
      ],
      "text/plain": [
       "   Unnamed: 0  fixed.acidity  volatile.acidity  citric.acid  residual.sugar  \\\n",
       "0           1            7.0              0.27         0.36            20.7   \n",
       "1           2            6.3              0.30         0.34             1.6   \n",
       "2           3            8.1              0.28         0.40             6.9   \n",
       "3           4            7.2              0.23         0.32             8.5   \n",
       "4           5            7.2              0.23         0.32             8.5   \n",
       "\n",
       "   chlorides  free.sulfur.dioxide  total.sulfur.dioxide  density    pH  \\\n",
       "0      0.045                 45.0                 170.0   1.0010  3.00   \n",
       "1      0.049                 14.0                 132.0   0.9940  3.30   \n",
       "2      0.050                 30.0                  97.0   0.9951  3.26   \n",
       "3      0.058                 47.0                 186.0   0.9956  3.19   \n",
       "4      0.058                 47.0                 186.0   0.9956  3.19   \n",
       "\n",
       "   sulphates  alcohol  quality  \n",
       "0       0.45      8.8        6  \n",
       "1       0.49      9.5        6  \n",
       "2       0.44     10.1        6  \n",
       "3       0.40      9.9        6  \n",
       "4       0.40      9.9        6  "
      ]
     },
     "execution_count": 11,
     "metadata": {},
     "output_type": "execute_result"
    }
   ],
   "source": [
    "file_path = \"../Resources/wineQualityWhites.csv\"\n",
    "whiteWine_df = pd.read_csv(file_path)\n",
    "whiteWine_df.head()"
   ]
  },
  {
   "cell_type": "code",
   "execution_count": 12,
   "id": "72c0a483-6cd5-4b49-9ae8-c9901f3d6094",
   "metadata": {},
   "outputs": [
    {
     "data": {
      "text/plain": [
       "Index(['Unnamed: 0', 'fixed.acidity', 'volatile.acidity', 'citric.acid',\n",
       "       'residual.sugar', 'chlorides', 'free.sulfur.dioxide',\n",
       "       'total.sulfur.dioxide', 'density', 'pH', 'sulphates', 'alcohol',\n",
       "       'quality'],\n",
       "      dtype='object')"
      ]
     },
     "execution_count": 12,
     "metadata": {},
     "output_type": "execute_result"
    }
   ],
   "source": [
    "# Columns\n",
    "whiteWine_df.columns"
   ]
  },
  {
   "cell_type": "code",
   "execution_count": 13,
   "id": "4397b7ab-b528-4114-8950-362b7e474cce",
   "metadata": {},
   "outputs": [
    {
     "data": {
      "text/plain": [
       "Unnamed: 0                int64\n",
       "fixed.acidity           float64\n",
       "volatile.acidity        float64\n",
       "citric.acid             float64\n",
       "residual.sugar          float64\n",
       "chlorides               float64\n",
       "free.sulfur.dioxide     float64\n",
       "total.sulfur.dioxide    float64\n",
       "density                 float64\n",
       "pH                      float64\n",
       "sulphates               float64\n",
       "alcohol                 float64\n",
       "quality                   int64\n",
       "dtype: object"
      ]
     },
     "execution_count": 13,
     "metadata": {},
     "output_type": "execute_result"
    }
   ],
   "source": [
    "# List DataFrame data types\n",
    "whiteWine_df.dtypes"
   ]
  },
  {
   "cell_type": "code",
   "execution_count": 14,
   "id": "e69a675b-6e25-4617-ab5a-c117b1300c79",
   "metadata": {},
   "outputs": [
    {
     "name": "stdout",
     "output_type": "stream",
     "text": [
      "Column Unnamed: 0 has 0 null values\n",
      "Column fixed.acidity has 0 null values\n",
      "Column volatile.acidity has 0 null values\n",
      "Column citric.acid has 0 null values\n",
      "Column residual.sugar has 0 null values\n",
      "Column chlorides has 0 null values\n",
      "Column free.sulfur.dioxide has 0 null values\n",
      "Column total.sulfur.dioxide has 0 null values\n",
      "Column density has 0 null values\n",
      "Column pH has 0 null values\n",
      "Column sulphates has 0 null values\n",
      "Column alcohol has 0 null values\n",
      "Column quality has 0 null values\n"
     ]
    }
   ],
   "source": [
    "# Find null values\n",
    "for column in whiteWine_df.columns:\n",
    "    print(f\"Column {column} has {whiteWine_df[column].isnull().sum()} null values\")"
   ]
  },
  {
   "cell_type": "code",
   "execution_count": 15,
   "id": "9b93ac54-00e0-4290-a3ee-83aa028aab3b",
   "metadata": {},
   "outputs": [
    {
     "name": "stdout",
     "output_type": "stream",
     "text": [
      "Duplicate entries: 0\n"
     ]
    }
   ],
   "source": [
    "# Find Duplicate entries\n",
    "print(f\"Duplicate entries: {whiteWine_df.duplicated().sum()}\")"
   ]
  },
  {
   "cell_type": "code",
   "execution_count": 16,
   "id": "a81e2541",
   "metadata": {},
   "outputs": [
    {
     "data": {
      "text/html": [
       "<div>\n",
       "<style scoped>\n",
       "    .dataframe tbody tr th:only-of-type {\n",
       "        vertical-align: middle;\n",
       "    }\n",
       "\n",
       "    .dataframe tbody tr th {\n",
       "        vertical-align: top;\n",
       "    }\n",
       "\n",
       "    .dataframe thead th {\n",
       "        text-align: right;\n",
       "    }\n",
       "</style>\n",
       "<table border=\"1\" class=\"dataframe\">\n",
       "  <thead>\n",
       "    <tr style=\"text-align: right;\">\n",
       "      <th></th>\n",
       "      <th>fixed.acidity</th>\n",
       "      <th>volatile.acidity</th>\n",
       "      <th>citric.acid</th>\n",
       "      <th>residual.sugar</th>\n",
       "      <th>chlorides</th>\n",
       "      <th>free.sulfur.dioxide</th>\n",
       "      <th>total.sulfur.dioxide</th>\n",
       "      <th>density</th>\n",
       "      <th>pH</th>\n",
       "      <th>sulphates</th>\n",
       "      <th>alcohol</th>\n",
       "      <th>quality</th>\n",
       "    </tr>\n",
       "  </thead>\n",
       "  <tbody>\n",
       "    <tr>\n",
       "      <th>0</th>\n",
       "      <td>7.0</td>\n",
       "      <td>0.27</td>\n",
       "      <td>0.36</td>\n",
       "      <td>20.7</td>\n",
       "      <td>0.045</td>\n",
       "      <td>45.0</td>\n",
       "      <td>170.0</td>\n",
       "      <td>1.0010</td>\n",
       "      <td>3.00</td>\n",
       "      <td>0.45</td>\n",
       "      <td>8.8</td>\n",
       "      <td>6</td>\n",
       "    </tr>\n",
       "    <tr>\n",
       "      <th>1</th>\n",
       "      <td>6.3</td>\n",
       "      <td>0.30</td>\n",
       "      <td>0.34</td>\n",
       "      <td>1.6</td>\n",
       "      <td>0.049</td>\n",
       "      <td>14.0</td>\n",
       "      <td>132.0</td>\n",
       "      <td>0.9940</td>\n",
       "      <td>3.30</td>\n",
       "      <td>0.49</td>\n",
       "      <td>9.5</td>\n",
       "      <td>6</td>\n",
       "    </tr>\n",
       "    <tr>\n",
       "      <th>2</th>\n",
       "      <td>8.1</td>\n",
       "      <td>0.28</td>\n",
       "      <td>0.40</td>\n",
       "      <td>6.9</td>\n",
       "      <td>0.050</td>\n",
       "      <td>30.0</td>\n",
       "      <td>97.0</td>\n",
       "      <td>0.9951</td>\n",
       "      <td>3.26</td>\n",
       "      <td>0.44</td>\n",
       "      <td>10.1</td>\n",
       "      <td>6</td>\n",
       "    </tr>\n",
       "    <tr>\n",
       "      <th>3</th>\n",
       "      <td>7.2</td>\n",
       "      <td>0.23</td>\n",
       "      <td>0.32</td>\n",
       "      <td>8.5</td>\n",
       "      <td>0.058</td>\n",
       "      <td>47.0</td>\n",
       "      <td>186.0</td>\n",
       "      <td>0.9956</td>\n",
       "      <td>3.19</td>\n",
       "      <td>0.40</td>\n",
       "      <td>9.9</td>\n",
       "      <td>6</td>\n",
       "    </tr>\n",
       "    <tr>\n",
       "      <th>4</th>\n",
       "      <td>7.2</td>\n",
       "      <td>0.23</td>\n",
       "      <td>0.32</td>\n",
       "      <td>8.5</td>\n",
       "      <td>0.058</td>\n",
       "      <td>47.0</td>\n",
       "      <td>186.0</td>\n",
       "      <td>0.9956</td>\n",
       "      <td>3.19</td>\n",
       "      <td>0.40</td>\n",
       "      <td>9.9</td>\n",
       "      <td>6</td>\n",
       "    </tr>\n",
       "  </tbody>\n",
       "</table>\n",
       "</div>"
      ],
      "text/plain": [
       "   fixed.acidity  volatile.acidity  citric.acid  residual.sugar  chlorides  \\\n",
       "0            7.0              0.27         0.36            20.7      0.045   \n",
       "1            6.3              0.30         0.34             1.6      0.049   \n",
       "2            8.1              0.28         0.40             6.9      0.050   \n",
       "3            7.2              0.23         0.32             8.5      0.058   \n",
       "4            7.2              0.23         0.32             8.5      0.058   \n",
       "\n",
       "   free.sulfur.dioxide  total.sulfur.dioxide  density    pH  sulphates  \\\n",
       "0                 45.0                 170.0   1.0010  3.00       0.45   \n",
       "1                 14.0                 132.0   0.9940  3.30       0.49   \n",
       "2                 30.0                  97.0   0.9951  3.26       0.44   \n",
       "3                 47.0                 186.0   0.9956  3.19       0.40   \n",
       "4                 47.0                 186.0   0.9956  3.19       0.40   \n",
       "\n",
       "   alcohol  quality  \n",
       "0      8.8        6  \n",
       "1      9.5        6  \n",
       "2     10.1        6  \n",
       "3      9.9        6  \n",
       "4      9.9        6  "
      ]
     },
     "execution_count": 16,
     "metadata": {},
     "output_type": "execute_result"
    }
   ],
   "source": [
    "# Drop 'Unnamed' column\n",
    "whiteWine_df.drop(columns='Unnamed: 0', inplace=True)\n",
    "whiteWine_df.head()"
   ]
  },
  {
   "cell_type": "code",
   "execution_count": 17,
   "id": "85797bdb",
   "metadata": {},
   "outputs": [
    {
     "data": {
      "text/html": [
       "<div>\n",
       "<style scoped>\n",
       "    .dataframe tbody tr th:only-of-type {\n",
       "        vertical-align: middle;\n",
       "    }\n",
       "\n",
       "    .dataframe tbody tr th {\n",
       "        vertical-align: top;\n",
       "    }\n",
       "\n",
       "    .dataframe thead th {\n",
       "        text-align: right;\n",
       "    }\n",
       "</style>\n",
       "<table border=\"1\" class=\"dataframe\">\n",
       "  <thead>\n",
       "    <tr style=\"text-align: right;\">\n",
       "      <th></th>\n",
       "      <th>fixed.acidity</th>\n",
       "      <th>volatile.acidity</th>\n",
       "      <th>citric.acid</th>\n",
       "      <th>residual.sugar</th>\n",
       "      <th>chlorides</th>\n",
       "      <th>free.sulfur.dioxide</th>\n",
       "      <th>total.sulfur.dioxide</th>\n",
       "      <th>density</th>\n",
       "      <th>pH</th>\n",
       "      <th>sulphates</th>\n",
       "      <th>alcohol</th>\n",
       "      <th>quality</th>\n",
       "    </tr>\n",
       "  </thead>\n",
       "  <tbody>\n",
       "    <tr>\n",
       "      <th>count</th>\n",
       "      <td>4898.000000</td>\n",
       "      <td>4898.000000</td>\n",
       "      <td>4898.000000</td>\n",
       "      <td>4898.000000</td>\n",
       "      <td>4898.000000</td>\n",
       "      <td>4898.000000</td>\n",
       "      <td>4898.000000</td>\n",
       "      <td>4898.000000</td>\n",
       "      <td>4898.000000</td>\n",
       "      <td>4898.000000</td>\n",
       "      <td>4898.000000</td>\n",
       "      <td>4898.000000</td>\n",
       "    </tr>\n",
       "    <tr>\n",
       "      <th>mean</th>\n",
       "      <td>6.854788</td>\n",
       "      <td>0.278241</td>\n",
       "      <td>0.334192</td>\n",
       "      <td>6.391415</td>\n",
       "      <td>0.045772</td>\n",
       "      <td>35.308085</td>\n",
       "      <td>138.360657</td>\n",
       "      <td>0.994027</td>\n",
       "      <td>3.188267</td>\n",
       "      <td>0.489847</td>\n",
       "      <td>10.514267</td>\n",
       "      <td>5.877909</td>\n",
       "    </tr>\n",
       "    <tr>\n",
       "      <th>std</th>\n",
       "      <td>0.843868</td>\n",
       "      <td>0.100795</td>\n",
       "      <td>0.121020</td>\n",
       "      <td>5.072058</td>\n",
       "      <td>0.021848</td>\n",
       "      <td>17.007137</td>\n",
       "      <td>42.498065</td>\n",
       "      <td>0.002991</td>\n",
       "      <td>0.151001</td>\n",
       "      <td>0.114126</td>\n",
       "      <td>1.230621</td>\n",
       "      <td>0.885639</td>\n",
       "    </tr>\n",
       "    <tr>\n",
       "      <th>min</th>\n",
       "      <td>3.800000</td>\n",
       "      <td>0.080000</td>\n",
       "      <td>0.000000</td>\n",
       "      <td>0.600000</td>\n",
       "      <td>0.009000</td>\n",
       "      <td>2.000000</td>\n",
       "      <td>9.000000</td>\n",
       "      <td>0.987110</td>\n",
       "      <td>2.720000</td>\n",
       "      <td>0.220000</td>\n",
       "      <td>8.000000</td>\n",
       "      <td>3.000000</td>\n",
       "    </tr>\n",
       "    <tr>\n",
       "      <th>25%</th>\n",
       "      <td>6.300000</td>\n",
       "      <td>0.210000</td>\n",
       "      <td>0.270000</td>\n",
       "      <td>1.700000</td>\n",
       "      <td>0.036000</td>\n",
       "      <td>23.000000</td>\n",
       "      <td>108.000000</td>\n",
       "      <td>0.991723</td>\n",
       "      <td>3.090000</td>\n",
       "      <td>0.410000</td>\n",
       "      <td>9.500000</td>\n",
       "      <td>5.000000</td>\n",
       "    </tr>\n",
       "    <tr>\n",
       "      <th>50%</th>\n",
       "      <td>6.800000</td>\n",
       "      <td>0.260000</td>\n",
       "      <td>0.320000</td>\n",
       "      <td>5.200000</td>\n",
       "      <td>0.043000</td>\n",
       "      <td>34.000000</td>\n",
       "      <td>134.000000</td>\n",
       "      <td>0.993740</td>\n",
       "      <td>3.180000</td>\n",
       "      <td>0.470000</td>\n",
       "      <td>10.400000</td>\n",
       "      <td>6.000000</td>\n",
       "    </tr>\n",
       "    <tr>\n",
       "      <th>75%</th>\n",
       "      <td>7.300000</td>\n",
       "      <td>0.320000</td>\n",
       "      <td>0.390000</td>\n",
       "      <td>9.900000</td>\n",
       "      <td>0.050000</td>\n",
       "      <td>46.000000</td>\n",
       "      <td>167.000000</td>\n",
       "      <td>0.996100</td>\n",
       "      <td>3.280000</td>\n",
       "      <td>0.550000</td>\n",
       "      <td>11.400000</td>\n",
       "      <td>6.000000</td>\n",
       "    </tr>\n",
       "    <tr>\n",
       "      <th>max</th>\n",
       "      <td>14.200000</td>\n",
       "      <td>1.100000</td>\n",
       "      <td>1.660000</td>\n",
       "      <td>65.800000</td>\n",
       "      <td>0.346000</td>\n",
       "      <td>289.000000</td>\n",
       "      <td>440.000000</td>\n",
       "      <td>1.038980</td>\n",
       "      <td>3.820000</td>\n",
       "      <td>1.080000</td>\n",
       "      <td>14.200000</td>\n",
       "      <td>9.000000</td>\n",
       "    </tr>\n",
       "  </tbody>\n",
       "</table>\n",
       "</div>"
      ],
      "text/plain": [
       "       fixed.acidity  volatile.acidity  citric.acid  residual.sugar  \\\n",
       "count    4898.000000       4898.000000  4898.000000     4898.000000   \n",
       "mean        6.854788          0.278241     0.334192        6.391415   \n",
       "std         0.843868          0.100795     0.121020        5.072058   \n",
       "min         3.800000          0.080000     0.000000        0.600000   \n",
       "25%         6.300000          0.210000     0.270000        1.700000   \n",
       "50%         6.800000          0.260000     0.320000        5.200000   \n",
       "75%         7.300000          0.320000     0.390000        9.900000   \n",
       "max        14.200000          1.100000     1.660000       65.800000   \n",
       "\n",
       "         chlorides  free.sulfur.dioxide  total.sulfur.dioxide      density  \\\n",
       "count  4898.000000          4898.000000           4898.000000  4898.000000   \n",
       "mean      0.045772            35.308085            138.360657     0.994027   \n",
       "std       0.021848            17.007137             42.498065     0.002991   \n",
       "min       0.009000             2.000000              9.000000     0.987110   \n",
       "25%       0.036000            23.000000            108.000000     0.991723   \n",
       "50%       0.043000            34.000000            134.000000     0.993740   \n",
       "75%       0.050000            46.000000            167.000000     0.996100   \n",
       "max       0.346000           289.000000            440.000000     1.038980   \n",
       "\n",
       "                pH    sulphates      alcohol      quality  \n",
       "count  4898.000000  4898.000000  4898.000000  4898.000000  \n",
       "mean      3.188267     0.489847    10.514267     5.877909  \n",
       "std       0.151001     0.114126     1.230621     0.885639  \n",
       "min       2.720000     0.220000     8.000000     3.000000  \n",
       "25%       3.090000     0.410000     9.500000     5.000000  \n",
       "50%       3.180000     0.470000    10.400000     6.000000  \n",
       "75%       3.280000     0.550000    11.400000     6.000000  \n",
       "max       3.820000     1.080000    14.200000     9.000000  "
      ]
     },
     "execution_count": 17,
     "metadata": {},
     "output_type": "execute_result"
    }
   ],
   "source": [
    "# Use summary statistics\n",
    "whiteWine_df.describe()"
   ]
  },
  {
   "cell_type": "code",
   "execution_count": 18,
   "id": "4f4c85f7",
   "metadata": {},
   "outputs": [
    {
     "data": {
      "text/html": [
       "<div>\n",
       "<style scoped>\n",
       "    .dataframe tbody tr th:only-of-type {\n",
       "        vertical-align: middle;\n",
       "    }\n",
       "\n",
       "    .dataframe tbody tr th {\n",
       "        vertical-align: top;\n",
       "    }\n",
       "\n",
       "    .dataframe thead th {\n",
       "        text-align: right;\n",
       "    }\n",
       "</style>\n",
       "<table border=\"1\" class=\"dataframe\">\n",
       "  <thead>\n",
       "    <tr style=\"text-align: right;\">\n",
       "      <th></th>\n",
       "      <th>fixed.acidity</th>\n",
       "      <th>volatile.acidity</th>\n",
       "      <th>citric.acid</th>\n",
       "      <th>residual.sugar</th>\n",
       "      <th>chlorides</th>\n",
       "      <th>free.sulfur.dioxide</th>\n",
       "      <th>total.sulfur.dioxide</th>\n",
       "      <th>density</th>\n",
       "      <th>pH</th>\n",
       "      <th>sulphates</th>\n",
       "      <th>alcohol</th>\n",
       "    </tr>\n",
       "  </thead>\n",
       "  <tbody>\n",
       "    <tr>\n",
       "      <th>0</th>\n",
       "      <td>7.0</td>\n",
       "      <td>0.27</td>\n",
       "      <td>0.36</td>\n",
       "      <td>20.7</td>\n",
       "      <td>0.045</td>\n",
       "      <td>45.0</td>\n",
       "      <td>170.0</td>\n",
       "      <td>1.00100</td>\n",
       "      <td>3.00</td>\n",
       "      <td>0.45</td>\n",
       "      <td>8.8</td>\n",
       "    </tr>\n",
       "    <tr>\n",
       "      <th>1</th>\n",
       "      <td>6.3</td>\n",
       "      <td>0.30</td>\n",
       "      <td>0.34</td>\n",
       "      <td>1.6</td>\n",
       "      <td>0.049</td>\n",
       "      <td>14.0</td>\n",
       "      <td>132.0</td>\n",
       "      <td>0.99400</td>\n",
       "      <td>3.30</td>\n",
       "      <td>0.49</td>\n",
       "      <td>9.5</td>\n",
       "    </tr>\n",
       "    <tr>\n",
       "      <th>2</th>\n",
       "      <td>8.1</td>\n",
       "      <td>0.28</td>\n",
       "      <td>0.40</td>\n",
       "      <td>6.9</td>\n",
       "      <td>0.050</td>\n",
       "      <td>30.0</td>\n",
       "      <td>97.0</td>\n",
       "      <td>0.99510</td>\n",
       "      <td>3.26</td>\n",
       "      <td>0.44</td>\n",
       "      <td>10.1</td>\n",
       "    </tr>\n",
       "    <tr>\n",
       "      <th>3</th>\n",
       "      <td>7.2</td>\n",
       "      <td>0.23</td>\n",
       "      <td>0.32</td>\n",
       "      <td>8.5</td>\n",
       "      <td>0.058</td>\n",
       "      <td>47.0</td>\n",
       "      <td>186.0</td>\n",
       "      <td>0.99560</td>\n",
       "      <td>3.19</td>\n",
       "      <td>0.40</td>\n",
       "      <td>9.9</td>\n",
       "    </tr>\n",
       "    <tr>\n",
       "      <th>4</th>\n",
       "      <td>7.2</td>\n",
       "      <td>0.23</td>\n",
       "      <td>0.32</td>\n",
       "      <td>8.5</td>\n",
       "      <td>0.058</td>\n",
       "      <td>47.0</td>\n",
       "      <td>186.0</td>\n",
       "      <td>0.99560</td>\n",
       "      <td>3.19</td>\n",
       "      <td>0.40</td>\n",
       "      <td>9.9</td>\n",
       "    </tr>\n",
       "    <tr>\n",
       "      <th>...</th>\n",
       "      <td>...</td>\n",
       "      <td>...</td>\n",
       "      <td>...</td>\n",
       "      <td>...</td>\n",
       "      <td>...</td>\n",
       "      <td>...</td>\n",
       "      <td>...</td>\n",
       "      <td>...</td>\n",
       "      <td>...</td>\n",
       "      <td>...</td>\n",
       "      <td>...</td>\n",
       "    </tr>\n",
       "    <tr>\n",
       "      <th>4893</th>\n",
       "      <td>6.2</td>\n",
       "      <td>0.21</td>\n",
       "      <td>0.29</td>\n",
       "      <td>1.6</td>\n",
       "      <td>0.039</td>\n",
       "      <td>24.0</td>\n",
       "      <td>92.0</td>\n",
       "      <td>0.99114</td>\n",
       "      <td>3.27</td>\n",
       "      <td>0.50</td>\n",
       "      <td>11.2</td>\n",
       "    </tr>\n",
       "    <tr>\n",
       "      <th>4894</th>\n",
       "      <td>6.6</td>\n",
       "      <td>0.32</td>\n",
       "      <td>0.36</td>\n",
       "      <td>8.0</td>\n",
       "      <td>0.047</td>\n",
       "      <td>57.0</td>\n",
       "      <td>168.0</td>\n",
       "      <td>0.99490</td>\n",
       "      <td>3.15</td>\n",
       "      <td>0.46</td>\n",
       "      <td>9.6</td>\n",
       "    </tr>\n",
       "    <tr>\n",
       "      <th>4895</th>\n",
       "      <td>6.5</td>\n",
       "      <td>0.24</td>\n",
       "      <td>0.19</td>\n",
       "      <td>1.2</td>\n",
       "      <td>0.041</td>\n",
       "      <td>30.0</td>\n",
       "      <td>111.0</td>\n",
       "      <td>0.99254</td>\n",
       "      <td>2.99</td>\n",
       "      <td>0.46</td>\n",
       "      <td>9.4</td>\n",
       "    </tr>\n",
       "    <tr>\n",
       "      <th>4896</th>\n",
       "      <td>5.5</td>\n",
       "      <td>0.29</td>\n",
       "      <td>0.30</td>\n",
       "      <td>1.1</td>\n",
       "      <td>0.022</td>\n",
       "      <td>20.0</td>\n",
       "      <td>110.0</td>\n",
       "      <td>0.98869</td>\n",
       "      <td>3.34</td>\n",
       "      <td>0.38</td>\n",
       "      <td>12.8</td>\n",
       "    </tr>\n",
       "    <tr>\n",
       "      <th>4897</th>\n",
       "      <td>6.0</td>\n",
       "      <td>0.21</td>\n",
       "      <td>0.38</td>\n",
       "      <td>0.8</td>\n",
       "      <td>0.020</td>\n",
       "      <td>22.0</td>\n",
       "      <td>98.0</td>\n",
       "      <td>0.98941</td>\n",
       "      <td>3.26</td>\n",
       "      <td>0.32</td>\n",
       "      <td>11.8</td>\n",
       "    </tr>\n",
       "  </tbody>\n",
       "</table>\n",
       "<p>4898 rows × 11 columns</p>\n",
       "</div>"
      ],
      "text/plain": [
       "      fixed.acidity  volatile.acidity  citric.acid  residual.sugar  chlorides  \\\n",
       "0               7.0              0.27         0.36            20.7      0.045   \n",
       "1               6.3              0.30         0.34             1.6      0.049   \n",
       "2               8.1              0.28         0.40             6.9      0.050   \n",
       "3               7.2              0.23         0.32             8.5      0.058   \n",
       "4               7.2              0.23         0.32             8.5      0.058   \n",
       "...             ...               ...          ...             ...        ...   \n",
       "4893            6.2              0.21         0.29             1.6      0.039   \n",
       "4894            6.6              0.32         0.36             8.0      0.047   \n",
       "4895            6.5              0.24         0.19             1.2      0.041   \n",
       "4896            5.5              0.29         0.30             1.1      0.022   \n",
       "4897            6.0              0.21         0.38             0.8      0.020   \n",
       "\n",
       "      free.sulfur.dioxide  total.sulfur.dioxide  density    pH  sulphates  \\\n",
       "0                    45.0                 170.0  1.00100  3.00       0.45   \n",
       "1                    14.0                 132.0  0.99400  3.30       0.49   \n",
       "2                    30.0                  97.0  0.99510  3.26       0.44   \n",
       "3                    47.0                 186.0  0.99560  3.19       0.40   \n",
       "4                    47.0                 186.0  0.99560  3.19       0.40   \n",
       "...                   ...                   ...      ...   ...        ...   \n",
       "4893                 24.0                  92.0  0.99114  3.27       0.50   \n",
       "4894                 57.0                 168.0  0.99490  3.15       0.46   \n",
       "4895                 30.0                 111.0  0.99254  2.99       0.46   \n",
       "4896                 20.0                 110.0  0.98869  3.34       0.38   \n",
       "4897                 22.0                  98.0  0.98941  3.26       0.32   \n",
       "\n",
       "      alcohol  \n",
       "0         8.8  \n",
       "1         9.5  \n",
       "2        10.1  \n",
       "3         9.9  \n",
       "4         9.9  \n",
       "...       ...  \n",
       "4893     11.2  \n",
       "4894      9.6  \n",
       "4895      9.4  \n",
       "4896     12.8  \n",
       "4897     11.8  \n",
       "\n",
       "[4898 rows x 11 columns]"
      ]
     },
     "execution_count": 18,
     "metadata": {},
     "output_type": "execute_result"
    }
   ],
   "source": [
    "# Split our data into our featured matrix (X) and our target (y)\n",
    "X = whiteWine_df.drop(columns=['quality'])\n",
    "X"
   ]
  },
  {
   "cell_type": "code",
   "execution_count": 19,
   "id": "6aa5afc8",
   "metadata": {},
   "outputs": [
    {
     "data": {
      "text/plain": [
       "0       6\n",
       "1       6\n",
       "2       6\n",
       "3       6\n",
       "4       6\n",
       "       ..\n",
       "4893    6\n",
       "4894    5\n",
       "4895    6\n",
       "4896    7\n",
       "4897    6\n",
       "Name: quality, Length: 4898, dtype: int64"
      ]
     },
     "execution_count": 19,
     "metadata": {},
     "output_type": "execute_result"
    }
   ],
   "source": [
    "# Create target (y)\n",
    "y = whiteWine_df['quality']\n",
    "y"
   ]
  },
  {
   "cell_type": "code",
<<<<<<< HEAD
   "execution_count": 20,
=======
   "execution_count": 11,
>>>>>>> 2c9821653372743d01a16a8bdee694fc6b01d5f3
   "id": "61950fcb",
   "metadata": {},
   "outputs": [],
   "source": [
    "# Train-test split\n",
    "X_train, X_test, y_train, y_test = train_test_split(X, y, random_state=5)"
   ]
  },
  {
   "cell_type": "code",
<<<<<<< HEAD
   "execution_count": 21,
=======
   "execution_count": 12,
>>>>>>> 2c9821653372743d01a16a8bdee694fc6b01d5f3
   "id": "7a543068",
   "metadata": {},
   "outputs": [
    {
     "data": {
      "text/plain": [
       "6    1613\n",
       "5    1102\n",
       "7     676\n",
       "8     143\n",
       "4     119\n",
       "3      15\n",
       "9       5\n",
       "Name: quality, dtype: int64"
      ]
     },
<<<<<<< HEAD
     "execution_count": 21,
=======
     "execution_count": 12,
>>>>>>> 2c9821653372743d01a16a8bdee694fc6b01d5f3
     "metadata": {},
     "output_type": "execute_result"
    }
   ],
   "source": [
    "# View y_train\n",
    "y_train.value_counts()"
   ]
  },
  {
   "cell_type": "code",
<<<<<<< HEAD
   "execution_count": 22,
=======
   "execution_count": 13,
>>>>>>> 2c9821653372743d01a16a8bdee694fc6b01d5f3
   "id": "eb8c16a4",
   "metadata": {},
   "outputs": [],
   "source": [
    "# Use StandardScaler to scale the dataset and balance the values\n",
    "# Create an instance of the StandardScaler model\n",
    "# model\n",
    "Scaler = StandardScaler()\n",
    "\n",
    "# fit\n",
    "Scaler = Scaler.fit(X_train)\n",
    "\n",
    "#transform\n",
    "X_train_scaled = Scaler.transform(X_train)\n",
    "X_test_scaled = Scaler.transform(X_test)"
   ]
  },
  {
   "cell_type": "markdown",
   "id": "8baa52d3",
   "metadata": {},
   "source": [
    "## Random Forest Classifier"
   ]
  },
  {
   "cell_type": "code",
   "execution_count": 14,
   "id": "7fb11f8d",
   "metadata": {},
   "outputs": [],
   "source": [
    "# Create an instance of a RFC\n",
    "# Model\n",
    "rf_clf = RandomForestClassifier(n_estimators=300, random_state=5)\n",
    "\n",
    "# Fit\n",
    "rf_clf = rf_clf.fit(X_train_scaled, y_train) "
   ]
  },
  {
   "cell_type": "code",
   "execution_count": 15,
   "id": "52783e54",
   "metadata": {},
   "outputs": [
    {
     "data": {
      "text/plain": [
       "1.0"
      ]
     },
     "execution_count": 15,
     "metadata": {},
     "output_type": "execute_result"
    }
   ],
   "source": [
    "# Evaluate training performance of RFC\n",
    "rf_clf.score(X_train_scaled, y_train)"
   ]
  },
  {
   "cell_type": "code",
   "execution_count": 16,
   "id": "bb9a76fc",
   "metadata": {},
   "outputs": [
    {
     "data": {
      "text/plain": [
       "0.686530612244898"
      ]
     },
     "execution_count": 16,
     "metadata": {},
     "output_type": "execute_result"
    }
   ],
   "source": [
    "# Evaluate testing performance of RFC\n",
    "rf_clf.score(X_test_scaled, y_test)"
   ]
  },
  {
   "cell_type": "code",
<<<<<<< HEAD
   "execution_count": 28,
   "id": "2716ec34",
   "metadata": {},
   "outputs": [
    {
     "name": "stdout",
     "output_type": "stream",
     "text": [
      "[('fixed.acidity', 0.07586649403496569), ('sulphates', 0.07818754249490957), ('citric.acid', 0.08215612823086826), ('chlorides', 0.08509396538879824), ('pH', 0.08578526593558168), ('residual.sugar', 0.08835731030161029), ('total.sulfur.dioxide', 0.09142690951596416), ('free.sulfur.dioxide', 0.09327684480681951), ('volatile.acidity', 0.10004805817732768), ('density', 0.1051474164010821), ('alcohol', 0.1146540647120727)]\n"
     ]
    }
   ],
   "source": [
    "# Find the features that are most important\n",
    "feature_importance = rf_clf.feature_importances_\n",
    "print(features)"
   ]
  },
  {
   "cell_type": "code",
   "execution_count": 32,
   "id": "35d22d97",
   "metadata": {},
   "outputs": [
    {
     "data": {
      "image/png": "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\n",
=======
   "execution_count": 67,
   "id": "2716ec34",
   "metadata": {
    "scrolled": true
   },
   "outputs": [
    {
     "data": {
>>>>>>> 2c9821653372743d01a16a8bdee694fc6b01d5f3
      "text/plain": [
       "array([0.07586649, 0.10004806, 0.08215613, 0.08835731, 0.08509397,\n",
       "       0.09327684, 0.09142691, 0.10514742, 0.08578527, 0.07818754,\n",
       "       0.11465406])"
      ]
     },
     "execution_count": 67,
     "metadata": {},
     "output_type": "execute_result"
    }
   ],
   "source": [
    "# Find the importance of each feature\n",
    "importances = rf_clf.feature_importances_\n",
    "importances"
   ]
  },
  {
   "cell_type": "code",
   "execution_count": 68,
   "id": "67c42ef2",
   "metadata": {},
   "outputs": [
    {
     "data": {
      "text/plain": [
       "[(0.1146540647120727, 'alcohol'),\n",
       " (0.1051474164010821, 'density'),\n",
       " (0.10004805817732768, 'volatile.acidity'),\n",
       " (0.09327684480681951, 'free.sulfur.dioxide'),\n",
       " (0.09142690951596416, 'total.sulfur.dioxide'),\n",
       " (0.08835731030161029, 'residual.sugar'),\n",
       " (0.08578526593558168, 'pH'),\n",
       " (0.08509396538879824, 'chlorides'),\n",
       " (0.08215612823086826, 'citric.acid'),\n",
       " (0.07818754249490957, 'sulphates'),\n",
       " (0.07586649403496569, 'fixed.acidity')]"
      ]
     },
     "execution_count": 68,
     "metadata": {},
     "output_type": "execute_result"
    }
   ],
   "source": [
    "# We can sort the features by their importance.\n",
    "sorted_features = sorted(zip(importances, X.columns), reverse=True)\n",
    "sorted_features"
   ]
  },
  {
   "cell_type": "code",

   "execution_count": 83,
   "id": "2562f8bf",

   "execution_count": 32,
   "id": "35d22d97",

   "metadata": {},
   "outputs": [
    {
     "data": {
      "image/png": "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\n",
      "text/plain": [
       "<Figure size 432x288 with 1 Axes>"
      ]
     },
     "metadata": {
      "needs_background": "light"
     },
     "output_type": "display_data"
    }
   ],
   "source": [
<<<<<<< HEAD
    "# Visualize feature importance\n",
    "features = sorted(zip(X.columns, rf_clf.feature_importances_), key = lambda x: x[1])\n",
    "cols = [f[0] for f in features]\n",
    "width = [f[1] for f in features]\n",
    "\n",
    "fig, ax = plt.subplots()\n",
    "\n",
    "fig.set_size_inches(10,50)\n",
    "plt.margins(y=0.001)\n",
    "\n",
    "ax.barh(y=cols, width=width)\n",
    "ax.set_title(\"Top Elements that affect the quality of wine\")\n",
    "ax.set_ylabel(\"Level\")\n",
    "\n",
=======
    "x, y = zip(*sorted_features)\n",
    "plt.bar(y, x)\n",
    "plt.xticks(rotation = 90)\n",
    "plt.title(\"Features Sorted by Importance\")\n",
    "plt.xlabel(\"Features\")\n",
    "plt.ylabel(\"Amount of Importance\")\n",
>>>>>>> 2c9821653372743d01a16a8bdee694fc6b01d5f3
    "plt.show()"
   ]
  },
  {
   "cell_type": "code",
<<<<<<< HEAD
   "execution_count": 35,
   "id": "51ffc0eb-0741-4ae0-bf6d-95d7ead88ea4",
   "metadata": {},
   "outputs": [
    {
     "data": {
      "text/html": [
       "<div>\n",
       "<style scoped>\n",
       "    .dataframe tbody tr th:only-of-type {\n",
       "        vertical-align: middle;\n",
       "    }\n",
       "\n",
       "    .dataframe tbody tr th {\n",
       "        vertical-align: top;\n",
       "    }\n",
       "\n",
       "    .dataframe thead th {\n",
       "        text-align: right;\n",
       "    }\n",
       "</style>\n",
       "<table border=\"1\" class=\"dataframe\">\n",
       "  <thead>\n",
       "    <tr style=\"text-align: right;\">\n",
       "      <th></th>\n",
       "      <th>Unnamed: 0</th>\n",
       "      <th>fixed.acidity</th>\n",
       "      <th>volatile.acidity</th>\n",
       "      <th>citric.acid</th>\n",
       "      <th>residual.sugar</th>\n",
       "      <th>chlorides</th>\n",
       "      <th>free.sulfur.dioxide</th>\n",
       "      <th>total.sulfur.dioxide</th>\n",
       "      <th>density</th>\n",
       "      <th>pH</th>\n",
       "      <th>sulphates</th>\n",
       "      <th>alcohol</th>\n",
       "      <th>quality</th>\n",
       "    </tr>\n",
       "  </thead>\n",
       "  <tbody>\n",
       "    <tr>\n",
       "      <th>0</th>\n",
       "      <td>1</td>\n",
       "      <td>7.0</td>\n",
       "      <td>0.27</td>\n",
       "      <td>0.36</td>\n",
       "      <td>20.7</td>\n",
       "      <td>0.045</td>\n",
       "      <td>45.0</td>\n",
       "      <td>170.0</td>\n",
       "      <td>1.0010</td>\n",
       "      <td>3.00</td>\n",
       "      <td>0.45</td>\n",
       "      <td>8.8</td>\n",
       "      <td>6</td>\n",
       "    </tr>\n",
       "    <tr>\n",
       "      <th>1</th>\n",
       "      <td>2</td>\n",
       "      <td>6.3</td>\n",
       "      <td>0.30</td>\n",
       "      <td>0.34</td>\n",
       "      <td>1.6</td>\n",
       "      <td>0.049</td>\n",
       "      <td>14.0</td>\n",
       "      <td>132.0</td>\n",
       "      <td>0.9940</td>\n",
       "      <td>3.30</td>\n",
       "      <td>0.49</td>\n",
       "      <td>9.5</td>\n",
       "      <td>6</td>\n",
       "    </tr>\n",
       "    <tr>\n",
       "      <th>2</th>\n",
       "      <td>3</td>\n",
       "      <td>8.1</td>\n",
       "      <td>0.28</td>\n",
       "      <td>0.40</td>\n",
       "      <td>6.9</td>\n",
       "      <td>0.050</td>\n",
       "      <td>30.0</td>\n",
       "      <td>97.0</td>\n",
       "      <td>0.9951</td>\n",
       "      <td>3.26</td>\n",
       "      <td>0.44</td>\n",
       "      <td>10.1</td>\n",
       "      <td>6</td>\n",
       "    </tr>\n",
       "    <tr>\n",
       "      <th>3</th>\n",
       "      <td>4</td>\n",
       "      <td>7.2</td>\n",
       "      <td>0.23</td>\n",
       "      <td>0.32</td>\n",
       "      <td>8.5</td>\n",
       "      <td>0.058</td>\n",
       "      <td>47.0</td>\n",
       "      <td>186.0</td>\n",
       "      <td>0.9956</td>\n",
       "      <td>3.19</td>\n",
       "      <td>0.40</td>\n",
       "      <td>9.9</td>\n",
       "      <td>6</td>\n",
       "    </tr>\n",
       "    <tr>\n",
       "      <th>4</th>\n",
       "      <td>5</td>\n",
       "      <td>7.2</td>\n",
       "      <td>0.23</td>\n",
       "      <td>0.32</td>\n",
       "      <td>8.5</td>\n",
       "      <td>0.058</td>\n",
       "      <td>47.0</td>\n",
       "      <td>186.0</td>\n",
       "      <td>0.9956</td>\n",
       "      <td>3.19</td>\n",
       "      <td>0.40</td>\n",
       "      <td>9.9</td>\n",
       "      <td>6</td>\n",
       "    </tr>\n",
       "  </tbody>\n",
       "</table>\n",
       "</div>"
      ],
      "text/plain": [
       "   Unnamed: 0  fixed.acidity  volatile.acidity  citric.acid  residual.sugar  \\\n",
       "0           1            7.0              0.27         0.36            20.7   \n",
       "1           2            6.3              0.30         0.34             1.6   \n",
       "2           3            8.1              0.28         0.40             6.9   \n",
       "3           4            7.2              0.23         0.32             8.5   \n",
       "4           5            7.2              0.23         0.32             8.5   \n",
       "\n",
       "   chlorides  free.sulfur.dioxide  total.sulfur.dioxide  density    pH  \\\n",
       "0      0.045                 45.0                 170.0   1.0010  3.00   \n",
       "1      0.049                 14.0                 132.0   0.9940  3.30   \n",
       "2      0.050                 30.0                  97.0   0.9951  3.26   \n",
       "3      0.058                 47.0                 186.0   0.9956  3.19   \n",
       "4      0.058                 47.0                 186.0   0.9956  3.19   \n",
       "\n",
       "   sulphates  alcohol  quality  \n",
       "0       0.45      8.8        6  \n",
       "1       0.49      9.5        6  \n",
       "2       0.44     10.1        6  \n",
       "3       0.40      9.9        6  \n",
       "4       0.40      9.9        6  "
      ]
     },
     "execution_count": 35,
     "metadata": {},
     "output_type": "execute_result"
    }
   ],
   "source": [
    "df = pd.read_csv(\"../Resources/wineQualityWhites.csv\")\n",
    "df.head()"
   ]
  },
  {
   "cell_type": "code",
   "execution_count": 50,
   "id": "9ce8f9b6",
   "metadata": {},
   "outputs": [
    {
     "data": {
      "image/png": "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\n",
      "text/plain": [
       "<Figure size 432x288 with 1 Axes>"
      ]
     },
     "metadata": {
      "needs_background": "light"
     },
     "output_type": "display_data"
    }
   ],
   "source": [
    "plt.bar(df.alcohol, df.quality)\n",
    "plt.xlabel('alcohol level')\n",
    "plt.ylabel('quality of wine')\n",
    "plt.show()"
   ]
=======
   "execution_count": null,
   "id": "5b2138e3",
   "metadata": {},
   "outputs": [],
   "source": []
  },
  {
   "cell_type": "code",
   "execution_count": null,
   "id": "352d7e09",
   "metadata": {},
   "outputs": [],
   "source": []
  },
  {
   "cell_type": "code",
   "execution_count": null,
   "id": "741d0ff8",
   "metadata": {},
   "outputs": [],
   "source": []
  },
  {
   "cell_type": "code",
   "execution_count": null,
   "id": "644b91a9",
   "metadata": {},
   "outputs": [],
   "source": []
>>>>>>> 2c9821653372743d01a16a8bdee694fc6b01d5f3
  },
  {
   "cell_type": "code",
   "execution_count": null,
   "id": "bafa6a92",
   "metadata": {},
   "outputs": [],
   "source": []
  },
  {
   "cell_type": "markdown",
   "id": "37159d79-7167-40ef-9de9-894cd9a3c8e8",
   "metadata": {
    "tags": []
   },
   "source": [
    "# Clustering\n",
    "# Clustering is a type of unsupervised learning that groups data points together\n",
    "Exploratory data analysis"
   ]
  },
  {
   "cell_type": "code",
   "execution_count": null,
   "id": "e6052c25-bf0a-4b09-b422-085d591fad01",
   "metadata": {},
   "outputs": [],
   "source": [
    "#The K-means algorithm groups the data into K clusters, where belonging to a cluster is based on some similarity or distance measure to a centroid.\n",
    "# Initializing model with K = 5 (since we already know there are 11 elements)\n",
    "model = KMeans(n_clusters=3, random_state=5)\n",
    "model\n"
   ]
  },
  {
   "cell_type": "code",
   "execution_count": null,
   "id": "ffdcc9e3-5589-4f92-8f7a-fea78c208817",
   "metadata": {},
   "outputs": [],
   "source": [
    "# Fitting model\n",
    "model.fit(whiteWine_df)"
   ]
  },
  {
   "cell_type": "code",
   "execution_count": null,
   "id": "ef0b00f7-332f-4221-bf64-ae89b4d4f704",
   "metadata": {},
   "outputs": [],
   "source": [
    "# Get the predictions\n",
    "predictions = model.predict(whiteWine_df)\n",
    "print(predictions)"
   ]
  },
  {
   "cell_type": "code",
   "execution_count": null,
   "id": "62d697a2-4efc-420a-8ccc-ce7f316232b0",
   "metadata": {},
   "outputs": [],
   "source": [
    "# Add a new class column to the whiteWine_df\n",
    "whiteWine_df[\"class\"] = model.labels_\n",
    "whiteWine_df.head(10)"
   ]
  },
  {
   "cell_type": "code",
   "execution_count": null,
   "id": "f3b800dc-e367-46da-9f29-cfe94b4e25b6",
   "metadata": {},
   "outputs": [],
   "source": [
    "# Plotting the clusters with two features\n",
    "# *dont know which elements to use yet*\n",
    "whiteWine_df.hvplot.scatter(x=\"sulphates\" , y=\"pH\" , by=\"quality\")"
   ]
  },
  {
   "cell_type": "code",
   "execution_count": null,
   "id": "8fe6dbb7-3f93-498c-a8bb-330f4c301a1e",
   "metadata": {},
   "outputs": [],
   "source": [
    "# Pandas to_csv() method to export the DataFrame to a CSV \n",
    "output_file_path = \"<path to folder>/nameOfFile.csv\"\n",
    "name_of_df.to_csv(output_file_path, index=False)"
   ]
  }
 ],
 "metadata": {
  "kernelspec": {
   "display_name": "mlenv",
   "language": "python",
   "name": "mlenv"
  },
  "language_info": {
   "codemirror_mode": {
    "name": "ipython",
    "version": 3
   },
   "file_extension": ".py",
   "mimetype": "text/x-python",
   "name": "python",
   "nbconvert_exporter": "python",
   "pygments_lexer": "ipython3",
<<<<<<< HEAD
   "version": "3.7.12"
=======
   "version": "3.7.11"
>>>>>>> 2c9821653372743d01a16a8bdee694fc6b01d5f3
  }
 },
 "nbformat": 4,
 "nbformat_minor": 5
}
