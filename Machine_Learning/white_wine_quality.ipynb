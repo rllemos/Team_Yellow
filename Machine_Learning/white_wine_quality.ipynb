{
 "cells": [
  {
   "cell_type": "code",
<<<<<<< HEAD
   "execution_count": 60,
   "id": "23c5a382-34b2-4df8-9e9b-57f1026f29f9",
=======
   "execution_count": 9,
>>>>>>> 0a4ffc78f61c471a0a429cb7fb580a07f535bf69
   "metadata": {},
   "outputs": [],
   "source": [
    "import os\n",
    "import pandas as pd\n",
    "import plotly.express as px\n",
    "import hvplot.pandas\n",
    "from sklearn.preprocessing import StandardScaler\n",
    "from sklearn.cluster import KMeans\n",
    "from sklearn.model_selection import train_test_split\n",
    "from sklearn.ensemble import RandomForestClassifier\n",
    "%matplotlib inline\n",
    "from matplotlib import pyplot as plt\n",
    "import matplotlib.pyplot as plt\n",
    "import numpy as np"
   ]
  },
  {
   "cell_type": "code",
<<<<<<< HEAD
   "execution_count": 2,
   "id": "dcc86d6d-d8d3-411c-ae56-957c60f70837",
=======
   "execution_count": 10,
>>>>>>> 0a4ffc78f61c471a0a429cb7fb580a07f535bf69
   "metadata": {},
   "outputs": [
    {
     "data": {
      "text/html": [
       "<div>\n",
       "<style scoped>\n",
       "    .dataframe tbody tr th:only-of-type {\n",
       "        vertical-align: middle;\n",
       "    }\n",
       "\n",
       "    .dataframe tbody tr th {\n",
       "        vertical-align: top;\n",
       "    }\n",
       "\n",
       "    .dataframe thead th {\n",
       "        text-align: right;\n",
       "    }\n",
       "</style>\n",
       "<table border=\"1\" class=\"dataframe\">\n",
       "  <thead>\n",
       "    <tr style=\"text-align: right;\">\n",
       "      <th></th>\n",
       "      <th>Unnamed: 0</th>\n",
       "      <th>fixed.acidity</th>\n",
       "      <th>volatile.acidity</th>\n",
       "      <th>citric.acid</th>\n",
       "      <th>residual.sugar</th>\n",
       "      <th>chlorides</th>\n",
       "      <th>free.sulfur.dioxide</th>\n",
       "      <th>total.sulfur.dioxide</th>\n",
       "      <th>density</th>\n",
       "      <th>pH</th>\n",
       "      <th>sulphates</th>\n",
       "      <th>alcohol</th>\n",
       "      <th>quality</th>\n",
       "    </tr>\n",
       "  </thead>\n",
       "  <tbody>\n",
       "    <tr>\n",
       "      <th>0</th>\n",
       "      <td>1</td>\n",
       "      <td>7.0</td>\n",
       "      <td>0.27</td>\n",
       "      <td>0.36</td>\n",
       "      <td>20.7</td>\n",
       "      <td>0.045</td>\n",
       "      <td>45.0</td>\n",
       "      <td>170.0</td>\n",
       "      <td>1.0010</td>\n",
       "      <td>3.00</td>\n",
       "      <td>0.45</td>\n",
       "      <td>8.8</td>\n",
       "      <td>6</td>\n",
       "    </tr>\n",
       "    <tr>\n",
       "      <th>1</th>\n",
       "      <td>2</td>\n",
       "      <td>6.3</td>\n",
       "      <td>0.30</td>\n",
       "      <td>0.34</td>\n",
       "      <td>1.6</td>\n",
       "      <td>0.049</td>\n",
       "      <td>14.0</td>\n",
       "      <td>132.0</td>\n",
       "      <td>0.9940</td>\n",
       "      <td>3.30</td>\n",
       "      <td>0.49</td>\n",
       "      <td>9.5</td>\n",
       "      <td>6</td>\n",
       "    </tr>\n",
       "    <tr>\n",
       "      <th>2</th>\n",
       "      <td>3</td>\n",
       "      <td>8.1</td>\n",
       "      <td>0.28</td>\n",
       "      <td>0.40</td>\n",
       "      <td>6.9</td>\n",
       "      <td>0.050</td>\n",
       "      <td>30.0</td>\n",
       "      <td>97.0</td>\n",
       "      <td>0.9951</td>\n",
       "      <td>3.26</td>\n",
       "      <td>0.44</td>\n",
       "      <td>10.1</td>\n",
       "      <td>6</td>\n",
       "    </tr>\n",
       "    <tr>\n",
       "      <th>3</th>\n",
       "      <td>4</td>\n",
       "      <td>7.2</td>\n",
       "      <td>0.23</td>\n",
       "      <td>0.32</td>\n",
       "      <td>8.5</td>\n",
       "      <td>0.058</td>\n",
       "      <td>47.0</td>\n",
       "      <td>186.0</td>\n",
       "      <td>0.9956</td>\n",
       "      <td>3.19</td>\n",
       "      <td>0.40</td>\n",
       "      <td>9.9</td>\n",
       "      <td>6</td>\n",
       "    </tr>\n",
       "    <tr>\n",
       "      <th>4</th>\n",
       "      <td>5</td>\n",
       "      <td>7.2</td>\n",
       "      <td>0.23</td>\n",
       "      <td>0.32</td>\n",
       "      <td>8.5</td>\n",
       "      <td>0.058</td>\n",
       "      <td>47.0</td>\n",
       "      <td>186.0</td>\n",
       "      <td>0.9956</td>\n",
       "      <td>3.19</td>\n",
       "      <td>0.40</td>\n",
       "      <td>9.9</td>\n",
       "      <td>6</td>\n",
       "    </tr>\n",
       "  </tbody>\n",
       "</table>\n",
       "</div>"
      ],
      "text/plain": [
       "   Unnamed: 0  fixed.acidity  volatile.acidity  citric.acid  residual.sugar  \\\n",
       "0           1            7.0              0.27         0.36            20.7   \n",
       "1           2            6.3              0.30         0.34             1.6   \n",
       "2           3            8.1              0.28         0.40             6.9   \n",
       "3           4            7.2              0.23         0.32             8.5   \n",
       "4           5            7.2              0.23         0.32             8.5   \n",
       "\n",
       "   chlorides  free.sulfur.dioxide  total.sulfur.dioxide  density    pH  \\\n",
       "0      0.045                 45.0                 170.0   1.0010  3.00   \n",
       "1      0.049                 14.0                 132.0   0.9940  3.30   \n",
       "2      0.050                 30.0                  97.0   0.9951  3.26   \n",
       "3      0.058                 47.0                 186.0   0.9956  3.19   \n",
       "4      0.058                 47.0                 186.0   0.9956  3.19   \n",
       "\n",
       "   sulphates  alcohol  quality  \n",
       "0       0.45      8.8        6  \n",
       "1       0.49      9.5        6  \n",
       "2       0.44     10.1        6  \n",
       "3       0.40      9.9        6  \n",
       "4       0.40      9.9        6  "
      ]
     },
<<<<<<< HEAD
     "execution_count": 2,
=======
     "execution_count": 10,
>>>>>>> 0a4ffc78f61c471a0a429cb7fb580a07f535bf69
     "metadata": {},
     "output_type": "execute_result"
    }
   ],
   "source": [
    "file_path = \"../Resources/wineQualityWhites.csv\"\n",
    "whiteWine_df = pd.read_csv(file_path)\n",
    "whiteWine_df.head()"
   ]
  },
  {
   "cell_type": "code",
<<<<<<< HEAD
   "execution_count": 3,
   "id": "72c0a483-6cd5-4b49-9ae8-c9901f3d6094",
   "metadata": {},
   "outputs": [
    {
     "data": {
      "text/plain": [
       "Index(['Unnamed: 0', 'fixed.acidity', 'volatile.acidity', 'citric.acid',\n",
       "       'residual.sugar', 'chlorides', 'free.sulfur.dioxide',\n",
       "       'total.sulfur.dioxide', 'density', 'pH', 'sulphates', 'alcohol',\n",
       "       'quality'],\n",
       "      dtype='object')"
      ]
     },
     "execution_count": 3,
     "metadata": {},
     "output_type": "execute_result"
    }
   ],
   "source": [
    "# Columns\n",
    "whiteWine_df.columns"
   ]
  },
  {
   "cell_type": "code",
   "execution_count": 4,
   "id": "4397b7ab-b528-4114-8950-362b7e474cce",
=======
   "execution_count": 11,
>>>>>>> 0a4ffc78f61c471a0a429cb7fb580a07f535bf69
   "metadata": {},
   "outputs": [
    {
     "data": {
      "text/plain": [
       "Unnamed: 0                int64\n",
       "fixed.acidity           float64\n",
       "volatile.acidity        float64\n",
       "citric.acid             float64\n",
       "residual.sugar          float64\n",
       "chlorides               float64\n",
       "free.sulfur.dioxide     float64\n",
       "total.sulfur.dioxide    float64\n",
       "density                 float64\n",
       "pH                      float64\n",
       "sulphates               float64\n",
       "alcohol                 float64\n",
       "quality                   int64\n",
       "dtype: object"
      ]
     },
<<<<<<< HEAD
     "execution_count": 4,
=======
     "execution_count": 11,
>>>>>>> 0a4ffc78f61c471a0a429cb7fb580a07f535bf69
     "metadata": {},
     "output_type": "execute_result"
    }
   ],
   "source": [
    "# List DataFrame data types\n",
    "whiteWine_df.dtypes"
   ]
  },
  {
   "cell_type": "code",
<<<<<<< HEAD
   "execution_count": 5,
   "id": "e69a675b-6e25-4617-ab5a-c117b1300c79",
=======
   "execution_count": 12,
>>>>>>> 0a4ffc78f61c471a0a429cb7fb580a07f535bf69
   "metadata": {},
   "outputs": [
    {
     "name": "stdout",
     "output_type": "stream",
     "text": [
      "Column Unnamed: 0 has 0 null values\n",
      "Column fixed.acidity has 0 null values\n",
      "Column volatile.acidity has 0 null values\n",
      "Column citric.acid has 0 null values\n",
      "Column residual.sugar has 0 null values\n",
      "Column chlorides has 0 null values\n",
      "Column free.sulfur.dioxide has 0 null values\n",
      "Column total.sulfur.dioxide has 0 null values\n",
      "Column density has 0 null values\n",
      "Column pH has 0 null values\n",
      "Column sulphates has 0 null values\n",
      "Column alcohol has 0 null values\n",
      "Column quality has 0 null values\n"
     ]
    }
   ],
   "source": [
    "# Find null values\n",
    "for column in whiteWine_df.columns:\n",
    "    print(f\"Column {column} has {whiteWine_df[column].isnull().sum()} null values\")"
   ]
  },
  {
   "cell_type": "code",
<<<<<<< HEAD
   "execution_count": 6,
   "id": "9b93ac54-00e0-4290-a3ee-83aa028aab3b",
=======
   "execution_count": 13,
>>>>>>> 0a4ffc78f61c471a0a429cb7fb580a07f535bf69
   "metadata": {},
   "outputs": [
    {
     "name": "stdout",
     "output_type": "stream",
     "text": [
      "Duplicate entries: 0\n"
     ]
    }
   ],
   "source": [
    "# Find Duplicate entries\n",
    "print(f\"Duplicate entries: {whiteWine_df.duplicated().sum()}\")\n"
   ]
  },
  {
   "cell_type": "code",
<<<<<<< HEAD
   "execution_count": 7,
   "id": "a81e2541",
=======
   "execution_count": 14,
>>>>>>> 0a4ffc78f61c471a0a429cb7fb580a07f535bf69
   "metadata": {},
   "outputs": [
    {
     "data": {
      "text/html": [
       "<div>\n",
       "<style scoped>\n",
       "    .dataframe tbody tr th:only-of-type {\n",
       "        vertical-align: middle;\n",
       "    }\n",
       "\n",
       "    .dataframe tbody tr th {\n",
       "        vertical-align: top;\n",
       "    }\n",
       "\n",
       "    .dataframe thead th {\n",
       "        text-align: right;\n",
       "    }\n",
       "</style>\n",
       "<table border=\"1\" class=\"dataframe\">\n",
       "  <thead>\n",
       "    <tr style=\"text-align: right;\">\n",
       "      <th></th>\n",
       "      <th>fixed.acidity</th>\n",
       "      <th>volatile.acidity</th>\n",
       "      <th>citric.acid</th>\n",
       "      <th>residual.sugar</th>\n",
       "      <th>chlorides</th>\n",
       "      <th>free.sulfur.dioxide</th>\n",
       "      <th>total.sulfur.dioxide</th>\n",
       "      <th>density</th>\n",
       "      <th>pH</th>\n",
       "      <th>sulphates</th>\n",
       "      <th>alcohol</th>\n",
       "      <th>quality</th>\n",
       "    </tr>\n",
       "  </thead>\n",
       "  <tbody>\n",
       "    <tr>\n",
       "      <th>0</th>\n",
       "      <td>7.0</td>\n",
       "      <td>0.27</td>\n",
       "      <td>0.36</td>\n",
       "      <td>20.7</td>\n",
       "      <td>0.045</td>\n",
       "      <td>45.0</td>\n",
       "      <td>170.0</td>\n",
       "      <td>1.0010</td>\n",
       "      <td>3.00</td>\n",
       "      <td>0.45</td>\n",
       "      <td>8.8</td>\n",
       "      <td>6</td>\n",
       "    </tr>\n",
       "    <tr>\n",
       "      <th>1</th>\n",
       "      <td>6.3</td>\n",
       "      <td>0.30</td>\n",
       "      <td>0.34</td>\n",
       "      <td>1.6</td>\n",
       "      <td>0.049</td>\n",
       "      <td>14.0</td>\n",
       "      <td>132.0</td>\n",
       "      <td>0.9940</td>\n",
       "      <td>3.30</td>\n",
       "      <td>0.49</td>\n",
       "      <td>9.5</td>\n",
       "      <td>6</td>\n",
       "    </tr>\n",
       "    <tr>\n",
       "      <th>2</th>\n",
       "      <td>8.1</td>\n",
       "      <td>0.28</td>\n",
       "      <td>0.40</td>\n",
       "      <td>6.9</td>\n",
       "      <td>0.050</td>\n",
       "      <td>30.0</td>\n",
       "      <td>97.0</td>\n",
       "      <td>0.9951</td>\n",
       "      <td>3.26</td>\n",
       "      <td>0.44</td>\n",
       "      <td>10.1</td>\n",
       "      <td>6</td>\n",
       "    </tr>\n",
       "    <tr>\n",
       "      <th>3</th>\n",
       "      <td>7.2</td>\n",
       "      <td>0.23</td>\n",
       "      <td>0.32</td>\n",
       "      <td>8.5</td>\n",
       "      <td>0.058</td>\n",
       "      <td>47.0</td>\n",
       "      <td>186.0</td>\n",
       "      <td>0.9956</td>\n",
       "      <td>3.19</td>\n",
       "      <td>0.40</td>\n",
       "      <td>9.9</td>\n",
       "      <td>6</td>\n",
       "    </tr>\n",
       "    <tr>\n",
       "      <th>4</th>\n",
       "      <td>7.2</td>\n",
       "      <td>0.23</td>\n",
       "      <td>0.32</td>\n",
       "      <td>8.5</td>\n",
       "      <td>0.058</td>\n",
       "      <td>47.0</td>\n",
       "      <td>186.0</td>\n",
       "      <td>0.9956</td>\n",
       "      <td>3.19</td>\n",
       "      <td>0.40</td>\n",
       "      <td>9.9</td>\n",
       "      <td>6</td>\n",
       "    </tr>\n",
       "  </tbody>\n",
       "</table>\n",
       "</div>"
      ],
      "text/plain": [
       "   fixed.acidity  volatile.acidity  citric.acid  residual.sugar  chlorides  \\\n",
       "0            7.0              0.27         0.36            20.7      0.045   \n",
       "1            6.3              0.30         0.34             1.6      0.049   \n",
       "2            8.1              0.28         0.40             6.9      0.050   \n",
       "3            7.2              0.23         0.32             8.5      0.058   \n",
       "4            7.2              0.23         0.32             8.5      0.058   \n",
       "\n",
       "   free.sulfur.dioxide  total.sulfur.dioxide  density    pH  sulphates  \\\n",
       "0                 45.0                 170.0   1.0010  3.00       0.45   \n",
       "1                 14.0                 132.0   0.9940  3.30       0.49   \n",
       "2                 30.0                  97.0   0.9951  3.26       0.44   \n",
       "3                 47.0                 186.0   0.9956  3.19       0.40   \n",
       "4                 47.0                 186.0   0.9956  3.19       0.40   \n",
       "\n",
       "   alcohol  quality  \n",
       "0      8.8        6  \n",
       "1      9.5        6  \n",
       "2     10.1        6  \n",
       "3      9.9        6  \n",
       "4      9.9        6  "
      ]
     },
<<<<<<< HEAD
     "execution_count": 7,
=======
     "execution_count": 14,
>>>>>>> 0a4ffc78f61c471a0a429cb7fb580a07f535bf69
     "metadata": {},
     "output_type": "execute_result"
    }
   ],
   "source": [
    "# Drop 'Unnamed' column\n",
    "whiteWine_df.drop(columns='Unnamed: 0', inplace=True)\n",
    "whiteWine_df.head()"
   ]
  },
  {
   "cell_type": "code",
<<<<<<< HEAD
   "execution_count": 8,
   "id": "85797bdb",
=======
   "execution_count": 15,
>>>>>>> 0a4ffc78f61c471a0a429cb7fb580a07f535bf69
   "metadata": {},
   "outputs": [
    {
     "data": {
      "text/html": [
       "<div>\n",
       "<style scoped>\n",
       "    .dataframe tbody tr th:only-of-type {\n",
       "        vertical-align: middle;\n",
       "    }\n",
       "\n",
       "    .dataframe tbody tr th {\n",
       "        vertical-align: top;\n",
       "    }\n",
       "\n",
       "    .dataframe thead th {\n",
       "        text-align: right;\n",
       "    }\n",
       "</style>\n",
       "<table border=\"1\" class=\"dataframe\">\n",
       "  <thead>\n",
       "    <tr style=\"text-align: right;\">\n",
       "      <th></th>\n",
       "      <th>fixed.acidity</th>\n",
       "      <th>volatile.acidity</th>\n",
       "      <th>citric.acid</th>\n",
       "      <th>residual.sugar</th>\n",
       "      <th>chlorides</th>\n",
       "      <th>free.sulfur.dioxide</th>\n",
       "      <th>total.sulfur.dioxide</th>\n",
       "      <th>density</th>\n",
       "      <th>pH</th>\n",
       "      <th>sulphates</th>\n",
       "      <th>alcohol</th>\n",
       "      <th>quality</th>\n",
       "    </tr>\n",
       "  </thead>\n",
       "  <tbody>\n",
       "    <tr>\n",
       "      <th>count</th>\n",
       "      <td>4898.000000</td>\n",
       "      <td>4898.000000</td>\n",
       "      <td>4898.000000</td>\n",
       "      <td>4898.000000</td>\n",
       "      <td>4898.000000</td>\n",
       "      <td>4898.000000</td>\n",
       "      <td>4898.000000</td>\n",
       "      <td>4898.000000</td>\n",
       "      <td>4898.000000</td>\n",
       "      <td>4898.000000</td>\n",
       "      <td>4898.000000</td>\n",
       "      <td>4898.000000</td>\n",
       "    </tr>\n",
       "    <tr>\n",
       "      <th>mean</th>\n",
       "      <td>6.854788</td>\n",
       "      <td>0.278241</td>\n",
       "      <td>0.334192</td>\n",
       "      <td>6.391415</td>\n",
       "      <td>0.045772</td>\n",
       "      <td>35.308085</td>\n",
       "      <td>138.360657</td>\n",
       "      <td>0.994027</td>\n",
       "      <td>3.188267</td>\n",
       "      <td>0.489847</td>\n",
       "      <td>10.514267</td>\n",
       "      <td>5.877909</td>\n",
       "    </tr>\n",
       "    <tr>\n",
       "      <th>std</th>\n",
       "      <td>0.843868</td>\n",
       "      <td>0.100795</td>\n",
       "      <td>0.121020</td>\n",
       "      <td>5.072058</td>\n",
       "      <td>0.021848</td>\n",
       "      <td>17.007137</td>\n",
       "      <td>42.498065</td>\n",
       "      <td>0.002991</td>\n",
       "      <td>0.151001</td>\n",
       "      <td>0.114126</td>\n",
       "      <td>1.230621</td>\n",
       "      <td>0.885639</td>\n",
       "    </tr>\n",
       "    <tr>\n",
       "      <th>min</th>\n",
       "      <td>3.800000</td>\n",
       "      <td>0.080000</td>\n",
       "      <td>0.000000</td>\n",
       "      <td>0.600000</td>\n",
       "      <td>0.009000</td>\n",
       "      <td>2.000000</td>\n",
       "      <td>9.000000</td>\n",
       "      <td>0.987110</td>\n",
       "      <td>2.720000</td>\n",
       "      <td>0.220000</td>\n",
       "      <td>8.000000</td>\n",
       "      <td>3.000000</td>\n",
       "    </tr>\n",
       "    <tr>\n",
       "      <th>25%</th>\n",
       "      <td>6.300000</td>\n",
       "      <td>0.210000</td>\n",
       "      <td>0.270000</td>\n",
       "      <td>1.700000</td>\n",
       "      <td>0.036000</td>\n",
       "      <td>23.000000</td>\n",
       "      <td>108.000000</td>\n",
       "      <td>0.991723</td>\n",
       "      <td>3.090000</td>\n",
       "      <td>0.410000</td>\n",
       "      <td>9.500000</td>\n",
       "      <td>5.000000</td>\n",
       "    </tr>\n",
       "    <tr>\n",
       "      <th>50%</th>\n",
       "      <td>6.800000</td>\n",
       "      <td>0.260000</td>\n",
       "      <td>0.320000</td>\n",
       "      <td>5.200000</td>\n",
       "      <td>0.043000</td>\n",
       "      <td>34.000000</td>\n",
       "      <td>134.000000</td>\n",
       "      <td>0.993740</td>\n",
       "      <td>3.180000</td>\n",
       "      <td>0.470000</td>\n",
       "      <td>10.400000</td>\n",
       "      <td>6.000000</td>\n",
       "    </tr>\n",
       "    <tr>\n",
       "      <th>75%</th>\n",
       "      <td>7.300000</td>\n",
       "      <td>0.320000</td>\n",
       "      <td>0.390000</td>\n",
       "      <td>9.900000</td>\n",
       "      <td>0.050000</td>\n",
       "      <td>46.000000</td>\n",
       "      <td>167.000000</td>\n",
       "      <td>0.996100</td>\n",
       "      <td>3.280000</td>\n",
       "      <td>0.550000</td>\n",
       "      <td>11.400000</td>\n",
       "      <td>6.000000</td>\n",
       "    </tr>\n",
       "    <tr>\n",
       "      <th>max</th>\n",
       "      <td>14.200000</td>\n",
       "      <td>1.100000</td>\n",
       "      <td>1.660000</td>\n",
       "      <td>65.800000</td>\n",
       "      <td>0.346000</td>\n",
       "      <td>289.000000</td>\n",
       "      <td>440.000000</td>\n",
       "      <td>1.038980</td>\n",
       "      <td>3.820000</td>\n",
       "      <td>1.080000</td>\n",
       "      <td>14.200000</td>\n",
       "      <td>9.000000</td>\n",
       "    </tr>\n",
       "  </tbody>\n",
       "</table>\n",
       "</div>"
      ],
      "text/plain": [
       "       fixed.acidity  volatile.acidity  citric.acid  residual.sugar  \\\n",
       "count    4898.000000       4898.000000  4898.000000     4898.000000   \n",
       "mean        6.854788          0.278241     0.334192        6.391415   \n",
       "std         0.843868          0.100795     0.121020        5.072058   \n",
       "min         3.800000          0.080000     0.000000        0.600000   \n",
       "25%         6.300000          0.210000     0.270000        1.700000   \n",
       "50%         6.800000          0.260000     0.320000        5.200000   \n",
       "75%         7.300000          0.320000     0.390000        9.900000   \n",
       "max        14.200000          1.100000     1.660000       65.800000   \n",
       "\n",
       "         chlorides  free.sulfur.dioxide  total.sulfur.dioxide      density  \\\n",
       "count  4898.000000          4898.000000           4898.000000  4898.000000   \n",
       "mean      0.045772            35.308085            138.360657     0.994027   \n",
       "std       0.021848            17.007137             42.498065     0.002991   \n",
       "min       0.009000             2.000000              9.000000     0.987110   \n",
       "25%       0.036000            23.000000            108.000000     0.991723   \n",
       "50%       0.043000            34.000000            134.000000     0.993740   \n",
       "75%       0.050000            46.000000            167.000000     0.996100   \n",
       "max       0.346000           289.000000            440.000000     1.038980   \n",
       "\n",
       "                pH    sulphates      alcohol      quality  \n",
       "count  4898.000000  4898.000000  4898.000000  4898.000000  \n",
       "mean      3.188267     0.489847    10.514267     5.877909  \n",
       "std       0.151001     0.114126     1.230621     0.885639  \n",
       "min       2.720000     0.220000     8.000000     3.000000  \n",
       "25%       3.090000     0.410000     9.500000     5.000000  \n",
       "50%       3.180000     0.470000    10.400000     6.000000  \n",
       "75%       3.280000     0.550000    11.400000     6.000000  \n",
       "max       3.820000     1.080000    14.200000     9.000000  "
      ]
     },
<<<<<<< HEAD
     "execution_count": 8,
=======
     "execution_count": 15,
>>>>>>> 0a4ffc78f61c471a0a429cb7fb580a07f535bf69
     "metadata": {},
     "output_type": "execute_result"
    }
   ],
   "source": [
    "# Use summary statistics\n",
    "whiteWine_df.describe()"
   ]
  },
  {
   "cell_type": "code",
<<<<<<< HEAD
   "execution_count": 9,
   "id": "4f4c85f7",
=======
   "execution_count": 16,
>>>>>>> 0a4ffc78f61c471a0a429cb7fb580a07f535bf69
   "metadata": {},
   "outputs": [
    {
     "data": {
      "text/html": [
       "<div>\n",
       "<style scoped>\n",
       "    .dataframe tbody tr th:only-of-type {\n",
       "        vertical-align: middle;\n",
       "    }\n",
       "\n",
       "    .dataframe tbody tr th {\n",
       "        vertical-align: top;\n",
       "    }\n",
       "\n",
       "    .dataframe thead th {\n",
       "        text-align: right;\n",
       "    }\n",
       "</style>\n",
       "<table border=\"1\" class=\"dataframe\">\n",
       "  <thead>\n",
       "    <tr style=\"text-align: right;\">\n",
       "      <th></th>\n",
       "      <th>fixed.acidity</th>\n",
       "      <th>volatile.acidity</th>\n",
       "      <th>citric.acid</th>\n",
       "      <th>residual.sugar</th>\n",
       "      <th>chlorides</th>\n",
       "      <th>free.sulfur.dioxide</th>\n",
       "      <th>total.sulfur.dioxide</th>\n",
       "      <th>density</th>\n",
       "      <th>pH</th>\n",
       "      <th>sulphates</th>\n",
       "      <th>alcohol</th>\n",
       "    </tr>\n",
       "  </thead>\n",
       "  <tbody>\n",
       "    <tr>\n",
       "      <th>0</th>\n",
       "      <td>7.0</td>\n",
       "      <td>0.27</td>\n",
       "      <td>0.36</td>\n",
       "      <td>20.7</td>\n",
       "      <td>0.045</td>\n",
       "      <td>45.0</td>\n",
       "      <td>170.0</td>\n",
       "      <td>1.00100</td>\n",
       "      <td>3.00</td>\n",
       "      <td>0.45</td>\n",
       "      <td>8.8</td>\n",
       "    </tr>\n",
       "    <tr>\n",
       "      <th>1</th>\n",
       "      <td>6.3</td>\n",
       "      <td>0.30</td>\n",
       "      <td>0.34</td>\n",
       "      <td>1.6</td>\n",
       "      <td>0.049</td>\n",
       "      <td>14.0</td>\n",
       "      <td>132.0</td>\n",
       "      <td>0.99400</td>\n",
       "      <td>3.30</td>\n",
       "      <td>0.49</td>\n",
       "      <td>9.5</td>\n",
       "    </tr>\n",
       "    <tr>\n",
       "      <th>2</th>\n",
       "      <td>8.1</td>\n",
       "      <td>0.28</td>\n",
       "      <td>0.40</td>\n",
       "      <td>6.9</td>\n",
       "      <td>0.050</td>\n",
       "      <td>30.0</td>\n",
       "      <td>97.0</td>\n",
       "      <td>0.99510</td>\n",
       "      <td>3.26</td>\n",
       "      <td>0.44</td>\n",
       "      <td>10.1</td>\n",
       "    </tr>\n",
       "    <tr>\n",
       "      <th>3</th>\n",
       "      <td>7.2</td>\n",
       "      <td>0.23</td>\n",
       "      <td>0.32</td>\n",
       "      <td>8.5</td>\n",
       "      <td>0.058</td>\n",
       "      <td>47.0</td>\n",
       "      <td>186.0</td>\n",
       "      <td>0.99560</td>\n",
       "      <td>3.19</td>\n",
       "      <td>0.40</td>\n",
       "      <td>9.9</td>\n",
       "    </tr>\n",
       "    <tr>\n",
       "      <th>4</th>\n",
       "      <td>7.2</td>\n",
       "      <td>0.23</td>\n",
       "      <td>0.32</td>\n",
       "      <td>8.5</td>\n",
       "      <td>0.058</td>\n",
       "      <td>47.0</td>\n",
       "      <td>186.0</td>\n",
       "      <td>0.99560</td>\n",
       "      <td>3.19</td>\n",
       "      <td>0.40</td>\n",
       "      <td>9.9</td>\n",
       "    </tr>\n",
       "    <tr>\n",
       "      <th>...</th>\n",
       "      <td>...</td>\n",
       "      <td>...</td>\n",
       "      <td>...</td>\n",
       "      <td>...</td>\n",
       "      <td>...</td>\n",
       "      <td>...</td>\n",
       "      <td>...</td>\n",
       "      <td>...</td>\n",
       "      <td>...</td>\n",
       "      <td>...</td>\n",
       "      <td>...</td>\n",
       "    </tr>\n",
       "    <tr>\n",
       "      <th>4893</th>\n",
       "      <td>6.2</td>\n",
       "      <td>0.21</td>\n",
       "      <td>0.29</td>\n",
       "      <td>1.6</td>\n",
       "      <td>0.039</td>\n",
       "      <td>24.0</td>\n",
       "      <td>92.0</td>\n",
       "      <td>0.99114</td>\n",
       "      <td>3.27</td>\n",
       "      <td>0.50</td>\n",
       "      <td>11.2</td>\n",
       "    </tr>\n",
       "    <tr>\n",
       "      <th>4894</th>\n",
       "      <td>6.6</td>\n",
       "      <td>0.32</td>\n",
       "      <td>0.36</td>\n",
       "      <td>8.0</td>\n",
       "      <td>0.047</td>\n",
       "      <td>57.0</td>\n",
       "      <td>168.0</td>\n",
       "      <td>0.99490</td>\n",
       "      <td>3.15</td>\n",
       "      <td>0.46</td>\n",
       "      <td>9.6</td>\n",
       "    </tr>\n",
       "    <tr>\n",
       "      <th>4895</th>\n",
       "      <td>6.5</td>\n",
       "      <td>0.24</td>\n",
       "      <td>0.19</td>\n",
       "      <td>1.2</td>\n",
       "      <td>0.041</td>\n",
       "      <td>30.0</td>\n",
       "      <td>111.0</td>\n",
       "      <td>0.99254</td>\n",
       "      <td>2.99</td>\n",
       "      <td>0.46</td>\n",
       "      <td>9.4</td>\n",
       "    </tr>\n",
       "    <tr>\n",
       "      <th>4896</th>\n",
       "      <td>5.5</td>\n",
       "      <td>0.29</td>\n",
       "      <td>0.30</td>\n",
       "      <td>1.1</td>\n",
       "      <td>0.022</td>\n",
       "      <td>20.0</td>\n",
       "      <td>110.0</td>\n",
       "      <td>0.98869</td>\n",
       "      <td>3.34</td>\n",
       "      <td>0.38</td>\n",
       "      <td>12.8</td>\n",
       "    </tr>\n",
       "    <tr>\n",
       "      <th>4897</th>\n",
       "      <td>6.0</td>\n",
       "      <td>0.21</td>\n",
       "      <td>0.38</td>\n",
       "      <td>0.8</td>\n",
       "      <td>0.020</td>\n",
       "      <td>22.0</td>\n",
       "      <td>98.0</td>\n",
       "      <td>0.98941</td>\n",
       "      <td>3.26</td>\n",
       "      <td>0.32</td>\n",
       "      <td>11.8</td>\n",
       "    </tr>\n",
       "  </tbody>\n",
       "</table>\n",
       "<p>4898 rows × 11 columns</p>\n",
       "</div>"
      ],
      "text/plain": [
       "      fixed.acidity  volatile.acidity  citric.acid  residual.sugar  chlorides  \\\n",
       "0               7.0              0.27         0.36            20.7      0.045   \n",
       "1               6.3              0.30         0.34             1.6      0.049   \n",
       "2               8.1              0.28         0.40             6.9      0.050   \n",
       "3               7.2              0.23         0.32             8.5      0.058   \n",
       "4               7.2              0.23         0.32             8.5      0.058   \n",
       "...             ...               ...          ...             ...        ...   \n",
       "4893            6.2              0.21         0.29             1.6      0.039   \n",
       "4894            6.6              0.32         0.36             8.0      0.047   \n",
       "4895            6.5              0.24         0.19             1.2      0.041   \n",
       "4896            5.5              0.29         0.30             1.1      0.022   \n",
       "4897            6.0              0.21         0.38             0.8      0.020   \n",
       "\n",
       "      free.sulfur.dioxide  total.sulfur.dioxide  density    pH  sulphates  \\\n",
       "0                    45.0                 170.0  1.00100  3.00       0.45   \n",
       "1                    14.0                 132.0  0.99400  3.30       0.49   \n",
       "2                    30.0                  97.0  0.99510  3.26       0.44   \n",
       "3                    47.0                 186.0  0.99560  3.19       0.40   \n",
       "4                    47.0                 186.0  0.99560  3.19       0.40   \n",
       "...                   ...                   ...      ...   ...        ...   \n",
       "4893                 24.0                  92.0  0.99114  3.27       0.50   \n",
       "4894                 57.0                 168.0  0.99490  3.15       0.46   \n",
       "4895                 30.0                 111.0  0.99254  2.99       0.46   \n",
       "4896                 20.0                 110.0  0.98869  3.34       0.38   \n",
       "4897                 22.0                  98.0  0.98941  3.26       0.32   \n",
       "\n",
       "      alcohol  \n",
       "0         8.8  \n",
       "1         9.5  \n",
       "2        10.1  \n",
       "3         9.9  \n",
       "4         9.9  \n",
       "...       ...  \n",
       "4893     11.2  \n",
       "4894      9.6  \n",
       "4895      9.4  \n",
       "4896     12.8  \n",
       "4897     11.8  \n",
       "\n",
       "[4898 rows x 11 columns]"
      ]
     },
<<<<<<< HEAD
     "execution_count": 9,
=======
     "execution_count": 16,
>>>>>>> 0a4ffc78f61c471a0a429cb7fb580a07f535bf69
     "metadata": {},
     "output_type": "execute_result"
    }
   ],
   "source": [
    "# Split our data into our featured matrix (X) and our target (y)\n",
    "X = whiteWine_df.drop(columns=['quality'])\n",
    "X\n"
   ]
  },
  {
   "cell_type": "code",
<<<<<<< HEAD
   "execution_count": 10,
   "id": "6aa5afc8",
=======
   "execution_count": 17,
>>>>>>> 0a4ffc78f61c471a0a429cb7fb580a07f535bf69
   "metadata": {},
   "outputs": [
    {
     "data": {
      "text/plain": [
       "0       6\n",
       "1       6\n",
       "2       6\n",
       "3       6\n",
       "4       6\n",
       "       ..\n",
       "4893    6\n",
       "4894    5\n",
       "4895    6\n",
       "4896    7\n",
       "4897    6\n",
       "Name: quality, Length: 4898, dtype: int64"
      ]
     },
<<<<<<< HEAD
     "execution_count": 10,
=======
     "execution_count": 17,
>>>>>>> 0a4ffc78f61c471a0a429cb7fb580a07f535bf69
     "metadata": {},
     "output_type": "execute_result"
    }
   ],
   "source": [
    "# Create target (y)\n",
    "y = whiteWine_df['quality']\n",
    "y"
   ]
  },
  {
   "cell_type": "code",
<<<<<<< HEAD
   "execution_count": 125,
   "id": "99338e6f",
   "metadata": {},
   "outputs": [
    {
     "data": {
      "text/plain": [
       "3      20\n",
       "4     163\n",
       "5    1457\n",
       "6    2198\n",
       "7     880\n",
       "8     175\n",
       "9       5\n",
       "Name: quality, dtype: int64"
      ]
     },
     "execution_count": 125,
     "metadata": {},
     "output_type": "execute_result"
    }
   ],
   "source": [
    "# Find value_count for quality column\n",
    "quality_counts = whiteWine_df['quality'].value_counts().sort_index()\n",
    "quality_counts"
   ]
  },
  {
   "cell_type": "code",
   "execution_count": 119,
   "id": "850b836f",
   "metadata": {},
   "outputs": [
    {
     "data": {
      "text/plain": [
       "<AxesSubplot:title={'center':'Amount of Wines Per Quality'}>"
      ]
     },
     "execution_count": 119,
     "metadata": {},
     "output_type": "execute_result"
    },
    {
     "data": {
      "image/png": "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\n",
      "text/plain": [
       "<Figure size 432x288 with 1 Axes>"
      ]
     },
     "metadata": {
      "needs_background": "light"
     },
     "output_type": "display_data"
    }
   ],
   "source": [
    "quality_counts.plot(kind='bar', title='Amount of Wines Per Quality')"
   ]
  },
  {
   "cell_type": "code",
   "execution_count": 116,
   "id": "7851ea46",
   "metadata": {},
   "outputs": [
    {
     "data": {
      "text/plain": [
       "3    0.004083\n",
       "4    0.033279\n",
       "5    0.297468\n",
       "6    0.448755\n",
       "7    0.179665\n",
       "8    0.035729\n",
       "9    0.001021\n",
       "Name: quality, dtype: float64"
      ]
     },
     "execution_count": 116,
     "metadata": {},
     "output_type": "execute_result"
    }
   ],
   "source": [
    "# Find the relative frequencies of the values\n",
    "norm_quality = whiteWine_df['quality'].value_counts(normalize=True).sort_index()\n",
    "norm_quality"
   ]
  },
  {
   "cell_type": "code",
   "execution_count": 11,
   "id": "61950fcb",
=======
   "execution_count": 18,
>>>>>>> 0a4ffc78f61c471a0a429cb7fb580a07f535bf69
   "metadata": {},
   "outputs": [],
   "source": [
    "# Train-test split\n",
    "X_train, X_test, y_train, y_test = train_test_split(X, y, random_state=5)"
   ]
  },
  {
   "cell_type": "code",
<<<<<<< HEAD
   "execution_count": 12,
   "id": "7a543068",
=======
   "execution_count": 19,
>>>>>>> 0a4ffc78f61c471a0a429cb7fb580a07f535bf69
   "metadata": {},
   "outputs": [
    {
     "data": {
      "text/plain": [
       "6    1613\n",
       "5    1102\n",
       "7     676\n",
       "8     143\n",
       "4     119\n",
       "3      15\n",
       "9       5\n",
       "Name: quality, dtype: int64"
      ]
     },
<<<<<<< HEAD
     "execution_count": 12,
=======
     "execution_count": 19,
>>>>>>> 0a4ffc78f61c471a0a429cb7fb580a07f535bf69
     "metadata": {},
     "output_type": "execute_result"
    }
   ],
   "source": [
    "# View y_train\n",
    "y_train.value_counts()\n"
   ]
  },
  {
   "cell_type": "code",
<<<<<<< HEAD
   "execution_count": 13,
   "id": "eb8c16a4",
=======
   "execution_count": 20,
>>>>>>> 0a4ffc78f61c471a0a429cb7fb580a07f535bf69
   "metadata": {},
   "outputs": [],
   "source": [
    "# Use StandardScaler to scale the dataset and balance the values\n",
    "# Create an instance of the StandardScaler model\n",
    "# model\n",
    "Scaler = StandardScaler()\n",
    "\n",
    "# fit\n",
    "Scaler = Scaler.fit(X_train)\n",
    "\n",
    "#transform\n",
    "X_train_scaled = Scaler.transform(X_train)\n",
    "X_test_scaled = Scaler.transform(X_test)\n"
   ]
  },
  {
   "cell_type": "code",
   "execution_count": null,
   "metadata": {},
   "outputs": [],
   "source": [
    "#Random Forest Classifier"
   ]
  },
  {
   "cell_type": "code",
   "execution_count": 21,
   "metadata": {},
   "outputs": [],
   "source": [
    "# Create an instance of a RFC\n",
    "# Model\n",
    "rf_clf = RandomForestClassifier(n_estimators=300, random_state=5)\n",
    "\n",
    "# Fit\n",
    "rf_clf = rf_clf.fit(X_train_scaled, y_train) "
   ]
  },
  {
   "cell_type": "code",
   "execution_count": 22,
   "metadata": {},
   "outputs": [
    {
     "data": {
      "text/plain": [
       "1.0"
      ]
     },
     "execution_count": 22,
     "metadata": {},
     "output_type": "execute_result"
    }
   ],
   "source": [
    "# Evaluate training performance of RFC\n",
    "rf_clf.score(X_train_scaled, y_train)\n"
   ]
  },
  {
   "cell_type": "code",
   "execution_count": 23,
   "metadata": {},
   "outputs": [
    {
     "data": {
      "text/plain": [
       "0.686530612244898"
      ]
     },
     "execution_count": 23,
     "metadata": {},
     "output_type": "execute_result"
    }
   ],
   "source": [
    "# Evaluate testing performance of RFC\n",
    "rf_clf.score(X_test_scaled, y_test)"
   ]
  },
  {
   "cell_type": "code",
<<<<<<< HEAD
   "execution_count": 67,
   "id": "2716ec34",
   "metadata": {
    "scrolled": true
   },
=======
   "execution_count": 24,
   "metadata": {},
>>>>>>> 0a4ffc78f61c471a0a429cb7fb580a07f535bf69
   "outputs": [
    {
     "data": {
      "text/plain": [
       "array([0.07586649, 0.10004806, 0.08215613, 0.08835731, 0.08509397,\n",
       "       0.09327684, 0.09142691, 0.10514742, 0.08578527, 0.07818754,\n",
       "       0.11465406])"
      ]
     },
     "execution_count": 24,
     "metadata": {},
     "output_type": "execute_result"
    }
   ],
   "source": [
    "# Find the importance of each feature\n",
    "importances = rf_clf.feature_importances_\n",
    "importances"
   ]
  },
  {
   "cell_type": "code",
   "execution_count": 25,
   "metadata": {},
   "outputs": [
    {
     "data": {
      "text/plain": [
       "[(0.1146540647120727, 'alcohol'),\n",
       " (0.1051474164010821, 'density'),\n",
       " (0.10004805817732768, 'volatile.acidity'),\n",
       " (0.09327684480681951, 'free.sulfur.dioxide'),\n",
       " (0.09142690951596416, 'total.sulfur.dioxide'),\n",
       " (0.08835731030161029, 'residual.sugar'),\n",
       " (0.08578526593558168, 'pH'),\n",
       " (0.08509396538879824, 'chlorides'),\n",
       " (0.08215612823086826, 'citric.acid'),\n",
       " (0.07818754249490957, 'sulphates'),\n",
       " (0.07586649403496569, 'fixed.acidity')]"
      ]
     },
     "execution_count": 25,
     "metadata": {},
     "output_type": "execute_result"
    }
   ],
   "source": [
    "# We can sort the features by their importance.\n",
    "sorted_features = sorted(zip(importances, X.columns), reverse=True)\n",
    "sorted_features\n"
   ]
  },
  {
   "cell_type": "code",
<<<<<<< HEAD
   "execution_count": 32,
   "id": "35d22d97",
=======
   "execution_count": 26,
>>>>>>> 0a4ffc78f61c471a0a429cb7fb580a07f535bf69
   "metadata": {},
   "outputs": [
    {
     "data": {
      "image/png": "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",
      "text/plain": [
       "<Figure size 432x288 with 1 Axes>"
      ]
     },
     "metadata": {
      "needs_background": "light"
     },
     "output_type": "display_data"
    }
   ],
   "source": [
    "x, y = zip(*sorted_features)\n",
    "plt.bar(y, x)\n",
    "plt.xticks(rotation = 90)\n",
    "plt.title(\"Features Sorted by Importance\")\n",
    "plt.xlabel(\"Features\")\n",
    "plt.ylabel(\"Amount of Importance\")\n",
<<<<<<< HEAD
    "plt.show()"
=======
    "plt.show()\n"
>>>>>>> 0a4ffc78f61c471a0a429cb7fb580a07f535bf69
   ]
  },
  {
   "cell_type": "code",
   "execution_count": null,
   "metadata": {},
   "outputs": [],
   "source": []
  },
  {
   "cell_type": "code",
   "execution_count": null,
   "metadata": {},
   "outputs": [],
   "source": []
<<<<<<< HEAD
  },
  {
   "cell_type": "code",
   "execution_count": null,
   "id": "741d0ff8",
   "metadata": {},
   "outputs": [],
   "source": []
  },
  {
   "cell_type": "code",
   "execution_count": null,
   "id": "644b91a9",
   "metadata": {},
   "outputs": [],
   "source": []
  },
  {
   "cell_type": "code",
   "execution_count": null,
   "id": "bafa6a92",
   "metadata": {},
   "outputs": [],
   "source": []
  },
  {
   "cell_type": "markdown",
   "id": "37159d79-7167-40ef-9de9-894cd9a3c8e8",
   "metadata": {
    "tags": []
   },
   "source": [
    "# Clustering\n",
    "# Clustering is a type of unsupervised learning that groups data points together\n",
    "Exploratory data analysis"
   ]
  },
  {
   "cell_type": "code",
   "execution_count": null,
   "id": "e6052c25-bf0a-4b09-b422-085d591fad01",
   "metadata": {},
   "outputs": [],
   "source": [
    "#The K-means algorithm groups the data into K clusters, where belonging to a cluster is based on some similarity or distance measure to a centroid.\n",
    "# Initializing model with K = 5 (since we already know there are 11 elements)\n",
    "model = KMeans(n_clusters=3, random_state=5)\n",
    "model\n"
   ]
  },
  {
   "cell_type": "code",
   "execution_count": null,
   "id": "ffdcc9e3-5589-4f92-8f7a-fea78c208817",
   "metadata": {},
   "outputs": [],
   "source": [
    "# Fitting model\n",
    "model.fit(whiteWine_df)"
   ]
  },
  {
   "cell_type": "code",
   "execution_count": null,
   "id": "ef0b00f7-332f-4221-bf64-ae89b4d4f704",
   "metadata": {},
   "outputs": [],
   "source": [
    "# Get the predictions\n",
    "predictions = model.predict(whiteWine_df)\n",
    "print(predictions)"
   ]
  },
  {
   "cell_type": "code",
   "execution_count": null,
   "id": "62d697a2-4efc-420a-8ccc-ce7f316232b0",
   "metadata": {},
   "outputs": [],
   "source": [
    "# Add a new class column to the whiteWine_df\n",
    "whiteWine_df[\"class\"] = model.labels_\n",
    "whiteWine_df.head(10)"
   ]
  },
  {
   "cell_type": "code",
   "execution_count": null,
   "id": "f3b800dc-e367-46da-9f29-cfe94b4e25b6",
   "metadata": {},
   "outputs": [],
   "source": [
    "# Plotting the clusters with two features\n",
    "# *dont know which elements to use yet*\n",
    "whiteWine_df.hvplot.scatter(x=\"sulphates\" , y=\"pH\" , by=\"quality\")"
   ]
  },
  {
   "cell_type": "code",
   "execution_count": null,
   "id": "8fe6dbb7-3f93-498c-a8bb-330f4c301a1e",
   "metadata": {},
   "outputs": [],
   "source": [
    "# Pandas to_csv() method to export the DataFrame to a CSV \n",
    "output_file_path = \"<path to folder>/nameOfFile.csv\"\n",
    "name_of_df.to_csv(output_file_path, index=False)"
   ]
=======
>>>>>>> 0a4ffc78f61c471a0a429cb7fb580a07f535bf69
  }
 ],
 "metadata": {
  "interpreter": {
   "hash": "86969af4118fd2beaee010b14a97d3c8fe7dc31ff55f1528eea7eaecb45368d6"
  },
  "kernelspec": {
   "display_name": "Python 3.7.12 64-bit ('mlenv': conda)",
   "language": "python",
   "name": "python3"
  },
  "language_info": {
   "codemirror_mode": {
    "name": "ipython",
    "version": 3
   },
   "file_extension": ".py",
   "mimetype": "text/x-python",
   "name": "python",
   "nbconvert_exporter": "python",
   "pygments_lexer": "ipython3",
<<<<<<< HEAD
   "version": "3.9.7"
  }
=======
   "version": "3.7.12"
  },
  "orig_nbformat": 4
>>>>>>> 0a4ffc78f61c471a0a429cb7fb580a07f535bf69
 },
 "nbformat": 4,
 "nbformat_minor": 2
}
